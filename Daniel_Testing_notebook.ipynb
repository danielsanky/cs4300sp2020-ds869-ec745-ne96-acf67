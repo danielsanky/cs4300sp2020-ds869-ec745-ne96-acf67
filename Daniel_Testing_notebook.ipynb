{
 "cells": [
  {
   "cell_type": "code",
   "execution_count": 1,
   "metadata": {
    "colab": {},
    "colab_type": "code",
    "id": "msBkb5Efds0D"
   },
   "outputs": [],
   "source": [
    "#write function that takes query input and returns recommendation list"
   ]
  },
  {
   "cell_type": "code",
   "execution_count": 2,
   "metadata": {
    "colab": {},
    "colab_type": "code",
    "id": "1XwnktnieiGT"
   },
   "outputs": [],
   "source": [
    "import numpy as np \n",
    "import pandas as pd \n",
    "import matplotlib.pyplot as plt\n",
    "from collections import Counter\n",
    "from sklearn import tree\n",
    "import random"
   ]
  },
  {
   "cell_type": "code",
   "execution_count": 3,
   "metadata": {},
   "outputs": [],
   "source": [
    "import collections"
   ]
  },
  {
   "cell_type": "code",
   "execution_count": 8,
   "metadata": {
    "colab": {},
    "colab_type": "code",
    "id": "OH0S6RioehaN"
   },
   "outputs": [],
   "source": [
    "#load data\n",
    "resp=pd.read_csv(\"young-people-survey/responses.csv\")\n",
    "podcasts=pd.read_csv(\"young-people-survey/df_popular_podcasts.csv\")\n",
    "movies=pd.read_csv(\"young-people-survey/MovieGenre.csv\")\n",
    "music=pd.read_csv(\"young-people-survey/SpotifyFeatures.csv\")\n",
    "genre_IDs=[['1311', 'News & Politics'], ['26', 'Podcasts'], ['1479', 'Social Sciences'], ['1315', 'Science & Medicine'], ['1324', 'Society & Culture'], ['1302', 'Personal Journals'], ['1469', 'Language Courses'], ['1304', 'Education'], ['1320', 'Places & Travel'], ['1416', 'Higher Education'], ['1465', 'Professional'], ['1316', 'Sports & Recreation'], ['1303', 'Comedy'], ['1305', 'Kids & Family'], ['1439', 'Christianity'], ['1314', 'Religion & Spirituality'], ['1444', 'Spirituality'], ['1309', 'TV & Film'], ['1462', 'History'], ['1310', 'Music'], ['1478', 'Medicine'], ['1321', 'Business'], ['1412', 'Investing'], ['1420', 'Self-Help'], ['1307', 'Health'], ['1481', 'Alternative Health'], ['1417', 'Fitness & Nutrition'], ['1467', 'Amateur'], ['1480', 'Software How-To'], ['1318', 'Technology'], ['1448', 'Tech News'], ['1456', 'Outdoor'], ['1477', 'Natural Sciences'], ['1301', 'Arts'], ['1454', 'Automotive'], ['1323', 'Games & Hobbies'], ['1438', 'Buddhism'], ['1443', 'Philosophy'], ['1401', 'Literature'], ['1402', 'Design'], ['1410', 'Careers'], ['1470', 'Training'], ['1413', 'Management & Marketing'], ['1306', 'Food'], ['1406', 'Visual Arts'], ['1446', 'Gadgets'], ['1468', 'Educational Technology'], ['1405', 'Performing Arts'], ['1460', 'Hobbies'], ['1471', 'Business News'], ['1404', 'Video Games'], ['1450', 'Podcasting'], ['1473', 'National'], ['1325', 'Government & Organizations'], ['1461', 'Other Games'], ['1466', 'College & High School'], ['1459', 'Fashion & Beauty'], ['1476', 'Non-Profit'], ['1415', 'K-12'], ['1455', 'Aviation'], ['1464', 'Other'], ['1421', 'Sexuality'], ['1472', 'Shopping'], ['1475', 'Local'], ['1441', 'Judaism'], ['1440', 'Islam'], ['1474', 'Regional'], ['1463', 'Hinduism']]"
   ]
  },
  {
   "cell_type": "code",
   "execution_count": 9,
   "metadata": {
    "scrolled": true
   },
   "outputs": [],
   "source": [
    "movies=movies[20000:]"
   ]
  },
  {
   "cell_type": "code",
   "execution_count": 15,
   "metadata": {},
   "outputs": [
    {
     "data": {
      "text/html": [
       "<div>\n",
       "<style scoped>\n",
       "    .dataframe tbody tr th:only-of-type {\n",
       "        vertical-align: middle;\n",
       "    }\n",
       "\n",
       "    .dataframe tbody tr th {\n",
       "        vertical-align: top;\n",
       "    }\n",
       "\n",
       "    .dataframe thead th {\n",
       "        text-align: right;\n",
       "    }\n",
       "</style>\n",
       "<table border=\"1\" class=\"dataframe\">\n",
       "  <thead>\n",
       "    <tr style=\"text-align: right;\">\n",
       "      <th></th>\n",
       "      <th>imdbId</th>\n",
       "      <th>Imdb Link</th>\n",
       "      <th>Title</th>\n",
       "      <th>IMDB Score</th>\n",
       "      <th>Genre</th>\n",
       "      <th>Poster</th>\n",
       "    </tr>\n",
       "  </thead>\n",
       "  <tbody>\n",
       "    <tr>\n",
       "      <th>20000</th>\n",
       "      <td>497298</td>\n",
       "      <td>http://www.imdb.com/title/tt497298</td>\n",
       "      <td>Jekyll</td>\n",
       "      <td>8.2</td>\n",
       "      <td>Crime|Horror|Sci-Fi</td>\n",
       "      <td>https://images-na.ssl-images-amazon.com/images...</td>\n",
       "    </tr>\n",
       "    <tr>\n",
       "      <th>20001</th>\n",
       "      <td>1735862</td>\n",
       "      <td>http://www.imdb.com/title/tt1735862</td>\n",
       "      <td>Dragon Eyes (2012)</td>\n",
       "      <td>4.5</td>\n",
       "      <td>Action|Crime|Drama</td>\n",
       "      <td>https://images-na.ssl-images-amazon.com/images...</td>\n",
       "    </tr>\n",
       "    <tr>\n",
       "      <th>20002</th>\n",
       "      <td>1436559</td>\n",
       "      <td>http://www.imdb.com/title/tt1436559</td>\n",
       "      <td>Love, Wedding, Marriage (2011)</td>\n",
       "      <td>5.0</td>\n",
       "      <td>Comedy</td>\n",
       "      <td>https://images-na.ssl-images-amazon.com/images...</td>\n",
       "    </tr>\n",
       "    <tr>\n",
       "      <th>20003</th>\n",
       "      <td>969647</td>\n",
       "      <td>http://www.imdb.com/title/tt969647</td>\n",
       "      <td>The Little Mermaid: Ariel's Beginning (2008)</td>\n",
       "      <td>6.4</td>\n",
       "      <td>Animation|Drama|Family</td>\n",
       "      <td>https://images-na.ssl-images-amazon.com/images...</td>\n",
       "    </tr>\n",
       "    <tr>\n",
       "      <th>20004</th>\n",
       "      <td>1612246</td>\n",
       "      <td>http://www.imdb.com/title/tt1612246</td>\n",
       "      <td>Bag It (2010)</td>\n",
       "      <td>7.5</td>\n",
       "      <td>Documentary|Comedy|Drama</td>\n",
       "      <td>https://images-na.ssl-images-amazon.com/images...</td>\n",
       "    </tr>\n",
       "  </tbody>\n",
       "</table>\n",
       "</div>"
      ],
      "text/plain": [
       "        imdbId                            Imdb Link  \\\n",
       "20000   497298   http://www.imdb.com/title/tt497298   \n",
       "20001  1735862  http://www.imdb.com/title/tt1735862   \n",
       "20002  1436559  http://www.imdb.com/title/tt1436559   \n",
       "20003   969647   http://www.imdb.com/title/tt969647   \n",
       "20004  1612246  http://www.imdb.com/title/tt1612246   \n",
       "\n",
       "                                              Title  IMDB Score  \\\n",
       "20000                                        Jekyll         8.2   \n",
       "20001                            Dragon Eyes (2012)         4.5   \n",
       "20002                Love, Wedding, Marriage (2011)         5.0   \n",
       "20003  The Little Mermaid: Ariel's Beginning (2008)         6.4   \n",
       "20004                                 Bag It (2010)         7.5   \n",
       "\n",
       "                          Genre  \\\n",
       "20000       Crime|Horror|Sci-Fi   \n",
       "20001        Action|Crime|Drama   \n",
       "20002                    Comedy   \n",
       "20003    Animation|Drama|Family   \n",
       "20004  Documentary|Comedy|Drama   \n",
       "\n",
       "                                                  Poster  \n",
       "20000  https://images-na.ssl-images-amazon.com/images...  \n",
       "20001  https://images-na.ssl-images-amazon.com/images...  \n",
       "20002  https://images-na.ssl-images-amazon.com/images...  \n",
       "20003  https://images-na.ssl-images-amazon.com/images...  \n",
       "20004  https://images-na.ssl-images-amazon.com/images...  "
      ]
     },
     "execution_count": 15,
     "metadata": {},
     "output_type": "execute_result"
    }
   ],
   "source": [
    "movies.head()"
   ]
  },
  {
   "cell_type": "code",
   "execution_count": 20,
   "metadata": {
    "scrolled": false
   },
   "outputs": [
    {
     "data": {
      "text/html": [
       "<div>\n",
       "<style scoped>\n",
       "    .dataframe tbody tr th:only-of-type {\n",
       "        vertical-align: middle;\n",
       "    }\n",
       "\n",
       "    .dataframe tbody tr th {\n",
       "        vertical-align: top;\n",
       "    }\n",
       "\n",
       "    .dataframe thead th {\n",
       "        text-align: right;\n",
       "    }\n",
       "</style>\n",
       "<table border=\"1\" class=\"dataframe\">\n",
       "  <thead>\n",
       "    <tr style=\"text-align: right;\">\n",
       "      <th></th>\n",
       "      <th>genre</th>\n",
       "      <th>artist_name</th>\n",
       "      <th>track_name</th>\n",
       "      <th>track_id</th>\n",
       "      <th>popularity</th>\n",
       "      <th>acousticness</th>\n",
       "      <th>danceability</th>\n",
       "      <th>duration_ms</th>\n",
       "      <th>energy</th>\n",
       "      <th>instrumentalness</th>\n",
       "      <th>key</th>\n",
       "      <th>liveness</th>\n",
       "      <th>loudness</th>\n",
       "      <th>mode</th>\n",
       "      <th>speechiness</th>\n",
       "      <th>tempo</th>\n",
       "      <th>time_signature</th>\n",
       "      <th>valence</th>\n",
       "    </tr>\n",
       "  </thead>\n",
       "  <tbody>\n",
       "    <tr>\n",
       "      <th>0</th>\n",
       "      <td>Movie</td>\n",
       "      <td>Henri Salvador</td>\n",
       "      <td>C'est beau de faire un Show</td>\n",
       "      <td>0BRjO6ga9RKCKjfDqeFgWV</td>\n",
       "      <td>0</td>\n",
       "      <td>0.611</td>\n",
       "      <td>0.389</td>\n",
       "      <td>99373</td>\n",
       "      <td>0.910</td>\n",
       "      <td>0.000</td>\n",
       "      <td>C#</td>\n",
       "      <td>0.3460</td>\n",
       "      <td>-1.828</td>\n",
       "      <td>Major</td>\n",
       "      <td>0.0525</td>\n",
       "      <td>166.969</td>\n",
       "      <td>4-Apr</td>\n",
       "      <td>0.814</td>\n",
       "    </tr>\n",
       "    <tr>\n",
       "      <th>1</th>\n",
       "      <td>Movie</td>\n",
       "      <td>Martin &amp; les fées</td>\n",
       "      <td>Perdu d'avance (par Gad Elmaleh)</td>\n",
       "      <td>0BjC1NfoEOOusryehmNudP</td>\n",
       "      <td>1</td>\n",
       "      <td>0.246</td>\n",
       "      <td>0.590</td>\n",
       "      <td>137373</td>\n",
       "      <td>0.737</td>\n",
       "      <td>0.000</td>\n",
       "      <td>F#</td>\n",
       "      <td>0.1510</td>\n",
       "      <td>-5.559</td>\n",
       "      <td>Minor</td>\n",
       "      <td>0.0868</td>\n",
       "      <td>174.003</td>\n",
       "      <td>4-Apr</td>\n",
       "      <td>0.816</td>\n",
       "    </tr>\n",
       "    <tr>\n",
       "      <th>2</th>\n",
       "      <td>Movie</td>\n",
       "      <td>Joseph Williams</td>\n",
       "      <td>Don't Let Me Be Lonely Tonight</td>\n",
       "      <td>0CoSDzoNIKCRs124s9uTVy</td>\n",
       "      <td>3</td>\n",
       "      <td>0.952</td>\n",
       "      <td>0.663</td>\n",
       "      <td>170267</td>\n",
       "      <td>0.131</td>\n",
       "      <td>0.000</td>\n",
       "      <td>C</td>\n",
       "      <td>0.1030</td>\n",
       "      <td>-13.879</td>\n",
       "      <td>Minor</td>\n",
       "      <td>0.0362</td>\n",
       "      <td>99.488</td>\n",
       "      <td>4-May</td>\n",
       "      <td>0.368</td>\n",
       "    </tr>\n",
       "    <tr>\n",
       "      <th>3</th>\n",
       "      <td>Movie</td>\n",
       "      <td>Henri Salvador</td>\n",
       "      <td>Dis-moi Monsieur Gordon Cooper</td>\n",
       "      <td>0Gc6TVm52BwZD07Ki6tIvf</td>\n",
       "      <td>0</td>\n",
       "      <td>0.703</td>\n",
       "      <td>0.240</td>\n",
       "      <td>152427</td>\n",
       "      <td>0.326</td>\n",
       "      <td>0.000</td>\n",
       "      <td>C#</td>\n",
       "      <td>0.0985</td>\n",
       "      <td>-12.178</td>\n",
       "      <td>Major</td>\n",
       "      <td>0.0395</td>\n",
       "      <td>171.758</td>\n",
       "      <td>4-Apr</td>\n",
       "      <td>0.227</td>\n",
       "    </tr>\n",
       "    <tr>\n",
       "      <th>4</th>\n",
       "      <td>Movie</td>\n",
       "      <td>Fabien Nataf</td>\n",
       "      <td>Ouverture</td>\n",
       "      <td>0IuslXpMROHdEPvSl1fTQK</td>\n",
       "      <td>4</td>\n",
       "      <td>0.950</td>\n",
       "      <td>0.331</td>\n",
       "      <td>82625</td>\n",
       "      <td>0.225</td>\n",
       "      <td>0.123</td>\n",
       "      <td>F</td>\n",
       "      <td>0.2020</td>\n",
       "      <td>-21.150</td>\n",
       "      <td>Major</td>\n",
       "      <td>0.0456</td>\n",
       "      <td>140.576</td>\n",
       "      <td>4-Apr</td>\n",
       "      <td>0.390</td>\n",
       "    </tr>\n",
       "  </tbody>\n",
       "</table>\n",
       "</div>"
      ],
      "text/plain": [
       "   genre        artist_name                        track_name  \\\n",
       "0  Movie     Henri Salvador       C'est beau de faire un Show   \n",
       "1  Movie  Martin & les fées  Perdu d'avance (par Gad Elmaleh)   \n",
       "2  Movie    Joseph Williams    Don't Let Me Be Lonely Tonight   \n",
       "3  Movie     Henri Salvador    Dis-moi Monsieur Gordon Cooper   \n",
       "4  Movie       Fabien Nataf                         Ouverture   \n",
       "\n",
       "                 track_id  popularity  acousticness  danceability  \\\n",
       "0  0BRjO6ga9RKCKjfDqeFgWV           0         0.611         0.389   \n",
       "1  0BjC1NfoEOOusryehmNudP           1         0.246         0.590   \n",
       "2  0CoSDzoNIKCRs124s9uTVy           3         0.952         0.663   \n",
       "3  0Gc6TVm52BwZD07Ki6tIvf           0         0.703         0.240   \n",
       "4  0IuslXpMROHdEPvSl1fTQK           4         0.950         0.331   \n",
       "\n",
       "   duration_ms  energy  instrumentalness key  liveness  loudness   mode  \\\n",
       "0        99373   0.910             0.000  C#    0.3460    -1.828  Major   \n",
       "1       137373   0.737             0.000  F#    0.1510    -5.559  Minor   \n",
       "2       170267   0.131             0.000   C    0.1030   -13.879  Minor   \n",
       "3       152427   0.326             0.000  C#    0.0985   -12.178  Major   \n",
       "4        82625   0.225             0.123   F    0.2020   -21.150  Major   \n",
       "\n",
       "   speechiness    tempo time_signature  valence  \n",
       "0       0.0525  166.969          4-Apr    0.814  \n",
       "1       0.0868  174.003          4-Apr    0.816  \n",
       "2       0.0362   99.488          4-May    0.368  \n",
       "3       0.0395  171.758          4-Apr    0.227  \n",
       "4       0.0456  140.576          4-Apr    0.390  "
      ]
     },
     "execution_count": 20,
     "metadata": {},
     "output_type": "execute_result"
    }
   ],
   "source": [
    "music.head()"
   ]
  },
  {
   "cell_type": "code",
   "execution_count": 44,
   "metadata": {},
   "outputs": [],
   "source": [
    "song=[(\"Ouverture\",1),(\"Suites for Cello, Suite No. 2 in D minor BWV 1008: Courante\",.523)]"
   ]
  },
  {
   "cell_type": "code",
   "execution_count": 50,
   "metadata": {},
   "outputs": [
    {
     "data": {
      "text/plain": [
       "'https://open.spotify.com/embed/track/0IuslXpMROHdEPvSl1fTQK'"
      ]
     },
     "execution_count": 50,
     "metadata": {},
     "output_type": "execute_result"
    }
   ],
   "source": [
    "\"https://open.spotify.com/embed/track/\"+list(music.loc[music[\"track_name\"] == song[0][0]][\"track_id\"].to_dict().values())[0]"
   ]
  },
  {
   "cell_type": "code",
   "execution_count": 43,
   "metadata": {},
   "outputs": [
    {
     "name": "stdout",
     "output_type": "stream",
     "text": [
      "[('Ouverture', 1, 'https://open.spotify.com/embed/track/0IuslXpMROHdEPvSl1fTQK'), ('Suites for Cello, Suite No. 2 in D minor BWV 1008: Courante', 0.523, 'https://open.spotify.com/embed/track/5OFUC61ynpkAfFA42WCFAx')]\n"
     ]
    }
   ],
   "source": [
    "song=[(item[0],item[1], \"https://open.spotify.com/embed/track/\"+list(music.loc[music[\"track_name\"] == item[0]][\"track_id\"].to_dict().values())[0]) for item in song]\n",
    "print(song)"
   ]
  },
  {
   "cell_type": "code",
   "execution_count": 25,
   "metadata": {},
   "outputs": [],
   "source": [
    "genre_to_music={}\n",
    "\n",
    "for i in range(len(music)):\n",
    "    genre=music['genre'][i]\n",
    "    genre=genre.lower()\n",
    "    if genre in genre_to_music:\n",
    "            genre_to_music[genre].append(music['track_name'][i]+\" by \"+music['artist_name'][i])\n",
    "    else:\n",
    "            genre_to_music[genre]=[music['track_name'][i]+ \" by \"+music['artist_name'][i]]"
   ]
  },
  {
   "cell_type": "code",
   "execution_count": 11,
   "metadata": {},
   "outputs": [
    {
     "data": {
      "text/plain": [
       "dict_keys(['movie', 'r&b', 'a capella', 'alternative', 'country', 'dance', 'electronic', 'anime', 'folk', 'blues', 'opera', 'hip-hop', \"children's music\", 'children’s music', 'rap', 'indie', 'classical', 'pop', 'reggae', 'reggaeton', 'jazz', 'rock', 'ska', 'comedy', 'soul', 'soundtrack', 'world'])"
      ]
     },
     "execution_count": 11,
     "metadata": {},
     "output_type": "execute_result"
    }
   ],
   "source": [
    "genre_to_music.keys()"
   ]
  },
  {
   "cell_type": "code",
   "execution_count": 12,
   "metadata": {
    "scrolled": true
   },
   "outputs": [],
   "source": [
    "# Better organize the id vs name of genre\n",
    "dict_pod={int(id[0]):id[1] for id in genre_IDs }\n",
    "\n",
    "# {Genre ID:NAMES OF PODCAST} \n",
    "genre_to_podcast={key:[] for key in dict_pod }\n",
    "for item in podcasts.index:\n",
    "    array=podcasts[\"Genre IDs\"][item][1:-1].split(',')\n",
    "    array=[int(array[i].replace('\\'', '').strip('\\'')) for i in range(len(array))]\n",
    "    for j in range(len(array)):\n",
    "        genre_to_podcast[array[j]].append(podcasts[\"Name\"][item])\n",
    "#final_dict={key.lower():value for key,value in final_dict}\n",
    "final_dict={list(dict_pod.values())[p]:list(genre_to_podcast.values())[p] for p in range(len(genre_to_podcast.keys()))}\n",
    "final_dict = dict((k.lower(), v) for k, v in final_dict.items()) "
   ]
  },
  {
   "cell_type": "code",
   "execution_count": 13,
   "metadata": {},
   "outputs": [
    {
     "name": "stdout",
     "output_type": "stream",
     "text": [
      "dict_keys(['news & politics', 'podcasts', 'social sciences', 'science & medicine', 'society & culture', 'personal journals', 'language courses', 'education', 'places & travel', 'higher education', 'professional', 'sports & recreation', 'comedy', 'kids & family', 'christianity', 'religion & spirituality', 'spirituality', 'tv & film', 'history', 'music', 'medicine', 'business', 'investing', 'self-help', 'health', 'alternative health', 'fitness & nutrition', 'amateur', 'software how-to', 'technology', 'tech news', 'outdoor', 'natural sciences', 'arts', 'automotive', 'games & hobbies', 'buddhism', 'philosophy', 'literature', 'design', 'careers', 'training', 'management & marketing', 'food', 'visual arts', 'gadgets', 'educational technology', 'performing arts', 'hobbies', 'business news', 'video games', 'podcasting', 'national', 'government & organizations', 'other games', 'college & high school', 'fashion & beauty', 'non-profit', 'k-12', 'aviation', 'other', 'sexuality', 'shopping', 'local', 'judaism', 'islam', 'regional', 'hinduism'])\n"
     ]
    }
   ],
   "source": [
    "print(final_dict.keys())"
   ]
  },
  {
   "cell_type": "code",
   "execution_count": 14,
   "metadata": {},
   "outputs": [
    {
     "ename": "KeyError",
     "evalue": "0",
     "output_type": "error",
     "traceback": [
      "\u001b[0;31m---------------------------------------------------------------------------\u001b[0m",
      "\u001b[0;31mKeyError\u001b[0m                                  Traceback (most recent call last)",
      "\u001b[0;32m<ipython-input-14-e591687072dc>\u001b[0m in \u001b[0;36m<module>\u001b[0;34m()\u001b[0m\n\u001b[1;32m      1\u001b[0m \u001b[0mgenre_to_movie\u001b[0m\u001b[0;34m=\u001b[0m\u001b[0;34m{\u001b[0m\u001b[0;34m}\u001b[0m\u001b[0;34m\u001b[0m\u001b[0m\n\u001b[1;32m      2\u001b[0m \u001b[0;32mfor\u001b[0m \u001b[0mi\u001b[0m \u001b[0;32min\u001b[0m \u001b[0mrange\u001b[0m\u001b[0;34m(\u001b[0m\u001b[0mlen\u001b[0m\u001b[0;34m(\u001b[0m\u001b[0mmovies\u001b[0m\u001b[0;34m)\u001b[0m\u001b[0;34m)\u001b[0m\u001b[0;34m:\u001b[0m\u001b[0;34m\u001b[0m\u001b[0m\n\u001b[0;32m----> 3\u001b[0;31m     \u001b[0mline\u001b[0m\u001b[0;34m=\u001b[0m\u001b[0mstr\u001b[0m\u001b[0;34m(\u001b[0m\u001b[0mmovies\u001b[0m\u001b[0;34m[\u001b[0m\u001b[0;34m\"Genre\"\u001b[0m\u001b[0;34m]\u001b[0m\u001b[0;34m[\u001b[0m\u001b[0mi\u001b[0m\u001b[0;34m]\u001b[0m\u001b[0;34m)\u001b[0m\u001b[0;34m\u001b[0m\u001b[0m\n\u001b[0m\u001b[1;32m      4\u001b[0m     \u001b[0;32mfor\u001b[0m \u001b[0mgenre\u001b[0m \u001b[0;32min\u001b[0m \u001b[0mline\u001b[0m\u001b[0;34m.\u001b[0m\u001b[0msplit\u001b[0m\u001b[0;34m(\u001b[0m\u001b[0;34m\"|\"\u001b[0m\u001b[0;34m)\u001b[0m\u001b[0;34m:\u001b[0m\u001b[0;34m\u001b[0m\u001b[0m\n\u001b[1;32m      5\u001b[0m         \u001b[0mgenre\u001b[0m\u001b[0;34m=\u001b[0m\u001b[0mgenre\u001b[0m\u001b[0;34m.\u001b[0m\u001b[0mlower\u001b[0m\u001b[0;34m(\u001b[0m\u001b[0;34m)\u001b[0m\u001b[0;34m\u001b[0m\u001b[0m\n",
      "\u001b[0;32m/Applications/anaconda3/lib/python3.6/site-packages/pandas/core/series.py\u001b[0m in \u001b[0;36m__getitem__\u001b[0;34m(self, key)\u001b[0m\n\u001b[1;32m    764\u001b[0m         \u001b[0mkey\u001b[0m \u001b[0;34m=\u001b[0m \u001b[0mcom\u001b[0m\u001b[0;34m.\u001b[0m\u001b[0m_apply_if_callable\u001b[0m\u001b[0;34m(\u001b[0m\u001b[0mkey\u001b[0m\u001b[0;34m,\u001b[0m \u001b[0mself\u001b[0m\u001b[0;34m)\u001b[0m\u001b[0;34m\u001b[0m\u001b[0m\n\u001b[1;32m    765\u001b[0m         \u001b[0;32mtry\u001b[0m\u001b[0;34m:\u001b[0m\u001b[0;34m\u001b[0m\u001b[0m\n\u001b[0;32m--> 766\u001b[0;31m             \u001b[0mresult\u001b[0m \u001b[0;34m=\u001b[0m \u001b[0mself\u001b[0m\u001b[0;34m.\u001b[0m\u001b[0mindex\u001b[0m\u001b[0;34m.\u001b[0m\u001b[0mget_value\u001b[0m\u001b[0;34m(\u001b[0m\u001b[0mself\u001b[0m\u001b[0;34m,\u001b[0m \u001b[0mkey\u001b[0m\u001b[0;34m)\u001b[0m\u001b[0;34m\u001b[0m\u001b[0m\n\u001b[0m\u001b[1;32m    767\u001b[0m \u001b[0;34m\u001b[0m\u001b[0m\n\u001b[1;32m    768\u001b[0m             \u001b[0;32mif\u001b[0m \u001b[0;32mnot\u001b[0m \u001b[0mis_scalar\u001b[0m\u001b[0;34m(\u001b[0m\u001b[0mresult\u001b[0m\u001b[0;34m)\u001b[0m\u001b[0;34m:\u001b[0m\u001b[0;34m\u001b[0m\u001b[0m\n",
      "\u001b[0;32m/Applications/anaconda3/lib/python3.6/site-packages/pandas/core/indexes/base.py\u001b[0m in \u001b[0;36mget_value\u001b[0;34m(self, series, key)\u001b[0m\n\u001b[1;32m   3101\u001b[0m         \u001b[0;32mtry\u001b[0m\u001b[0;34m:\u001b[0m\u001b[0;34m\u001b[0m\u001b[0m\n\u001b[1;32m   3102\u001b[0m             return self._engine.get_value(s, k,\n\u001b[0;32m-> 3103\u001b[0;31m                                           tz=getattr(series.dtype, 'tz', None))\n\u001b[0m\u001b[1;32m   3104\u001b[0m         \u001b[0;32mexcept\u001b[0m \u001b[0mKeyError\u001b[0m \u001b[0;32mas\u001b[0m \u001b[0me1\u001b[0m\u001b[0;34m:\u001b[0m\u001b[0;34m\u001b[0m\u001b[0m\n\u001b[1;32m   3105\u001b[0m             \u001b[0;32mif\u001b[0m \u001b[0mlen\u001b[0m\u001b[0;34m(\u001b[0m\u001b[0mself\u001b[0m\u001b[0;34m)\u001b[0m \u001b[0;34m>\u001b[0m \u001b[0;36m0\u001b[0m \u001b[0;32mand\u001b[0m \u001b[0mself\u001b[0m\u001b[0;34m.\u001b[0m\u001b[0minferred_type\u001b[0m \u001b[0;32min\u001b[0m \u001b[0;34m[\u001b[0m\u001b[0;34m'integer'\u001b[0m\u001b[0;34m,\u001b[0m \u001b[0;34m'boolean'\u001b[0m\u001b[0;34m]\u001b[0m\u001b[0;34m:\u001b[0m\u001b[0;34m\u001b[0m\u001b[0m\n",
      "\u001b[0;32mpandas/_libs/index.pyx\u001b[0m in \u001b[0;36mpandas._libs.index.IndexEngine.get_value\u001b[0;34m()\u001b[0m\n",
      "\u001b[0;32mpandas/_libs/index.pyx\u001b[0m in \u001b[0;36mpandas._libs.index.IndexEngine.get_value\u001b[0;34m()\u001b[0m\n",
      "\u001b[0;32mpandas/_libs/index.pyx\u001b[0m in \u001b[0;36mpandas._libs.index.IndexEngine.get_loc\u001b[0;34m()\u001b[0m\n",
      "\u001b[0;32mpandas/_libs/hashtable_class_helper.pxi\u001b[0m in \u001b[0;36mpandas._libs.hashtable.Int64HashTable.get_item\u001b[0;34m()\u001b[0m\n",
      "\u001b[0;32mpandas/_libs/hashtable_class_helper.pxi\u001b[0m in \u001b[0;36mpandas._libs.hashtable.Int64HashTable.get_item\u001b[0;34m()\u001b[0m\n",
      "\u001b[0;31mKeyError\u001b[0m: 0"
     ]
    }
   ],
   "source": [
    "genre_to_movie={}\n",
    "for i in range(len(movies)):\n",
    "    line=str(movies[\"Genre\"][i])\n",
    "    for genre in line.split(\"|\"):\n",
    "        genre=genre.lower()\n",
    "        if genre in genre_to_movie:\n",
    "            genre_to_movie[genre].append(movies[\"Title\"][i])\n",
    "        else: \n",
    "            genre_to_movie[genre]=[movies[\"Title\"][i]]\n"
   ]
  },
  {
   "cell_type": "code",
   "execution_count": null,
   "metadata": {},
   "outputs": [],
   "source": [
    "print(genre_to_movie.keys())"
   ]
  },
  {
   "cell_type": "code",
   "execution_count": null,
   "metadata": {},
   "outputs": [],
   "source": [
    "music.head()"
   ]
  },
  {
   "cell_type": "code",
   "execution_count": null,
   "metadata": {},
   "outputs": [],
   "source": [
    "#dependent vbs\n",
    "music_cols=cols[:19][\"short\"]\n",
    "movie_cols=cols[19:31][\"short\"]\n",
    "hobbies=cols[31:63][\"short\"]\n",
    "\n",
    "#independent vbs\n",
    "personality=cols[76:133][\"short\"]\n",
    "demographics=cols.iloc[[140, 144, 146]][\"short\"]"
   ]
  },
  {
   "cell_type": "code",
   "execution_count": null,
   "metadata": {},
   "outputs": [],
   "source": [
    "def gender_numeric(gender):   \n",
    "    return {\n",
    "        'female': 1,\n",
    "        'male':0, \n",
    "    }.get(gender,float(\"nan\"))\n",
    "\n",
    "resp[\"Gender\"]=list(map(gender_numeric, list(resp[\"Gender\"])))\n",
    "resp"
   ]
  },
  {
   "cell_type": "code",
   "execution_count": null,
   "metadata": {},
   "outputs": [],
   "source": [
    "# Convert education to quantitative values and reassign to table\n",
    "def edu_level_numeric(edu):   \n",
    "    return {\n",
    "        'currently a primary school pupil': 0,\n",
    "        'primary school': 1,\n",
    "        'secondary school': 2, \n",
    "        'college/bachelor degree': 3,\n",
    "        'masters degree': 4,   \n",
    "        'doctorate degree': 5\n",
    "    }.get(edu,float(\"nan\"))\n",
    "\n",
    "resp[\"Education\"]=list(map(edu_level_numeric, list(resp[\"Education\"])))"
   ]
  },
  {
   "cell_type": "code",
   "execution_count": null,
   "metadata": {},
   "outputs": [],
   "source": [
    "music_resp=resp.iloc[:, :19]\n",
    "movie_resp=resp.iloc[:, 19:31]\n",
    "hobbies_resp=resp.iloc[:, 31:63]\n",
    "personality_resp=resp.iloc[:, [79, 80, 105, 106, 109, 110, 113, 129, 132]]\n",
    "demographics_resp=resp.iloc[:, [140, 144, 146, 147]]\n",
    "\n",
    "final_mat=pd.concat([music_resp, movie_resp, hobbies_resp, personality_resp, demographics_resp], axis=1)\n",
    "final_mat=final_mat.rename(columns={\"New environment\": \"adapt\", \"Socializing\": \"meeting-people\", \"Waiting\":\"patient\", \"Number of friends\": \"friends\", \"Workaholism\": \"study\", \"Thinking ahead\": \"perspectives\", \"Charity\": \"charity\", \"Interests or hobbies\": \"differ-hobbies\"})\n",
    "\n",
    "corr_mat=pd.DataFrame.corr(final_mat)\n",
    "corr_mat.columns = map(str.lower, corr_mat.columns)\n",
    "corr_mat.index = map(str.lower, corr_mat.index)\n",
    "corr_mat"
   ]
  },
  {
   "cell_type": "code",
   "execution_count": null,
   "metadata": {},
   "outputs": [],
   "source": [
    "    \"\"\"Returns a list of podcasts based on interests user clicked in form\n",
    "    Params: {query: list of genre names, genre_dict: dictionary that maps genre to titles}\n",
    "    Returns: list of titles and scores\n",
    "    \"\"\"\n",
    "    #query is an array of genre_names\n",
    "    #corr_query is a dictionary of radio button responses like {'all-music': 'R&B', 'all-movies': 'Horror', 'all-interests': 'Social Sciences', 'gender': 'female', 'education': 'no'}\n",
    "    corr_query.pop('all-interests', None)\n",
    "    corr_query.pop('all-movies', None)\n",
    "    corr_query.pop('all-music', None)\n",
    "\n",
    "    genre_query=[genre.lower() for genre in genre_query]\n",
    "    \n",
    "    counter={}\n",
    "    for key in corr_query:\n",
    "        val=float(corr_query[key]) \n",
    "        for cat in genre_query: \n",
    "            corr=float(corr_mat[key][cat])\n",
    "            weighted=corr*val\n",
    "            for film in genre_dict[cat]:\n",
    "                if film in counter:\n",
    "                    counter[film]+=weighted\n",
    "                else: \n",
    "                    counter[film]=weighted\n",
    "\n",
    "    results = list(counter.items())\n",
    "    random.shuffle(results)\n",
    "    results.sort(key=lambda x: x[1], reverse=True)\n",
    "    return results[:5]\n"
   ]
  },
  {
   "cell_type": "code",
   "execution_count": 37,
   "metadata": {},
   "outputs": [
    {
     "data": {
      "text/plain": [
       "[]"
      ]
     },
     "execution_count": 37,
     "metadata": {},
     "output_type": "execute_result"
    }
   ],
   "source": [
    "recs(genre_to_movie, ['Horror', 'Romance'], {'all-music': 'Country'})"
   ]
  },
  {
   "cell_type": "code",
   "execution_count": 21,
   "metadata": {},
   "outputs": [],
   "source": [
    "# Convert education to quantitative values and reassign to table\n",
    "def edu_level_numeric(edu):   \n",
    "    return {\n",
    "        'currently a primary school pupil': 0,\n",
    "        'primary school': 1,\n",
    "        'secondary school': 2, \n",
    "        'college/bachelor degree': 3,\n",
    "        'masters degree': 4,   \n",
    "        'doctorate degree': 5\n",
    "    }.get(edu,float(\"nan\"))\n",
    "resp[\"Education\"]=list(map(edu_level_numeric, list(resp[\"Education\"])))"
   ]
  },
  {
   "cell_type": "code",
   "execution_count": 22,
   "metadata": {},
   "outputs": [],
   "source": [
    "def gender_numeric(gender):   \n",
    "    return {\n",
    "        'female': 0,\n",
    "        'male':1\n",
    "    }.get(gender,float(\"nan\"))\n",
    "resp[\"Gender\"]=list(map(gender_numeric, list(resp[\"Gender\"])))"
   ]
  },
  {
   "cell_type": "code",
   "execution_count": 23,
   "metadata": {},
   "outputs": [],
   "source": [
    "# NOW FOR PERSONALITY\n",
    "def punct_numeric(punct):   \n",
    "    return {\n",
    "        'i am often early': 1,\n",
    "        'i am always on time':2,\n",
    "        'i am often running late': 3\n",
    "    }.get(punct,float(\"nan\"))\n",
    "resp[\"Punctuality\"]=list(map(punct_numeric, list(resp[\"Punctuality\"])))\n",
    "\n",
    "\n",
    "\n",
    "def ly_numeric(lying):\n",
    "    return {\n",
    "        'never':0,\n",
    "        'only to avoid hurting someone': 1,\n",
    "        'sometimes': 2,\n",
    "        'everytime it suits me': 3\n",
    "    }.get(lying,float(\"nan\"))\n",
    "resp[\"Lying\"]=list(map(ly_numeric,list(resp[\"Lying\"])))\n",
    "\n",
    "\n",
    "def web_numeric(web):\n",
    "    return{\n",
    "        'no time at all': 0, \n",
    "        'less than an hour a day': 1,\n",
    "        'few hours a day': 2,\n",
    "         'most of the day': 3\n",
    "    }.get(web,float(\"nan\"))\n",
    "resp[\"Internet usage\"]=list(map(web_numeric,list(resp[\"Internet usage\"])))"
   ]
  },
  {
   "cell_type": "code",
   "execution_count": 25,
   "metadata": {},
   "outputs": [
    {
     "ename": "KeyError",
     "evalue": "'genre'",
     "output_type": "error",
     "traceback": [
      "\u001b[1;31m---------------------------------------------------------------------------\u001b[0m",
      "\u001b[1;31mKeyError\u001b[0m                                  Traceback (most recent call last)",
      "\u001b[1;32mc:\\users\\nancy\\venv\\lib\\site-packages\\pandas\\core\\indexes\\base.py\u001b[0m in \u001b[0;36mget_loc\u001b[1;34m(self, key, method, tolerance)\u001b[0m\n\u001b[0;32m   2645\u001b[0m             \u001b[1;32mtry\u001b[0m\u001b[1;33m:\u001b[0m\u001b[1;33m\u001b[0m\u001b[1;33m\u001b[0m\u001b[0m\n\u001b[1;32m-> 2646\u001b[1;33m                 \u001b[1;32mreturn\u001b[0m \u001b[0mself\u001b[0m\u001b[1;33m.\u001b[0m\u001b[0m_engine\u001b[0m\u001b[1;33m.\u001b[0m\u001b[0mget_loc\u001b[0m\u001b[1;33m(\u001b[0m\u001b[0mkey\u001b[0m\u001b[1;33m)\u001b[0m\u001b[1;33m\u001b[0m\u001b[1;33m\u001b[0m\u001b[0m\n\u001b[0m\u001b[0;32m   2647\u001b[0m             \u001b[1;32mexcept\u001b[0m \u001b[0mKeyError\u001b[0m\u001b[1;33m:\u001b[0m\u001b[1;33m\u001b[0m\u001b[1;33m\u001b[0m\u001b[0m\n",
      "\u001b[1;32mpandas\\_libs\\index.pyx\u001b[0m in \u001b[0;36mpandas._libs.index.IndexEngine.get_loc\u001b[1;34m()\u001b[0m\n",
      "\u001b[1;32mpandas\\_libs\\index.pyx\u001b[0m in \u001b[0;36mpandas._libs.index.IndexEngine.get_loc\u001b[1;34m()\u001b[0m\n",
      "\u001b[1;32mpandas\\_libs\\hashtable_class_helper.pxi\u001b[0m in \u001b[0;36mpandas._libs.hashtable.PyObjectHashTable.get_item\u001b[1;34m()\u001b[0m\n",
      "\u001b[1;32mpandas\\_libs\\hashtable_class_helper.pxi\u001b[0m in \u001b[0;36mpandas._libs.hashtable.PyObjectHashTable.get_item\u001b[1;34m()\u001b[0m\n",
      "\u001b[1;31mKeyError\u001b[0m: 'genre'",
      "\nDuring handling of the above exception, another exception occurred:\n",
      "\u001b[1;31mKeyError\u001b[0m                                  Traceback (most recent call last)",
      "\u001b[1;32m<ipython-input-25-bc4136a1fe6a>\u001b[0m in \u001b[0;36m<module>\u001b[1;34m()\u001b[0m\n\u001b[0;32m      3\u001b[0m     \u001b[0mdem_var\u001b[0m\u001b[1;33m=\u001b[0m\u001b[0mresp\u001b[0m\u001b[1;33m[\u001b[0m\u001b[0mdem\u001b[0m\u001b[1;33m]\u001b[0m\u001b[1;33m\u001b[0m\u001b[1;33m\u001b[0m\u001b[0m\n\u001b[0;32m      4\u001b[0m     \u001b[1;32mfor\u001b[0m \u001b[0mcol\u001b[0m \u001b[1;32min\u001b[0m \u001b[0mmusic\u001b[0m\u001b[1;33m:\u001b[0m\u001b[1;33m\u001b[0m\u001b[1;33m\u001b[0m\u001b[0m\n\u001b[1;32m----> 5\u001b[1;33m         \u001b[0mmusic_var\u001b[0m\u001b[1;33m=\u001b[0m\u001b[0mresp\u001b[0m\u001b[1;33m[\u001b[0m\u001b[0mcol\u001b[0m\u001b[1;33m]\u001b[0m\u001b[1;33m\u001b[0m\u001b[1;33m\u001b[0m\u001b[0m\n\u001b[0m\u001b[0;32m      6\u001b[0m         \u001b[0mcorr_dict\u001b[0m\u001b[1;33m[\u001b[0m\u001b[1;33m(\u001b[0m\u001b[0mcol\u001b[0m\u001b[1;33m,\u001b[0m\u001b[0mdem\u001b[0m\u001b[1;33m)\u001b[0m\u001b[1;33m]\u001b[0m\u001b[1;33m=\u001b[0m\u001b[0mpd\u001b[0m\u001b[1;33m.\u001b[0m\u001b[0mconcat\u001b[0m\u001b[1;33m(\u001b[0m\u001b[1;33m[\u001b[0m\u001b[0mmusic_var\u001b[0m\u001b[1;33m,\u001b[0m\u001b[0mdem_var\u001b[0m\u001b[1;33m]\u001b[0m\u001b[1;33m,\u001b[0m \u001b[0maxis\u001b[0m\u001b[1;33m=\u001b[0m\u001b[1;36m1\u001b[0m\u001b[1;33m)\u001b[0m\u001b[1;33m.\u001b[0m\u001b[0mcorr\u001b[0m\u001b[1;33m(\u001b[0m\u001b[1;34m\"pearson\"\u001b[0m\u001b[1;33m)\u001b[0m\u001b[1;33m.\u001b[0m\u001b[0miloc\u001b[0m\u001b[1;33m[\u001b[0m\u001b[1;36m0\u001b[0m\u001b[1;33m,\u001b[0m\u001b[1;36m1\u001b[0m\u001b[1;33m]\u001b[0m\u001b[1;33m\u001b[0m\u001b[1;33m\u001b[0m\u001b[0m\n\u001b[0;32m      7\u001b[0m print(\"Correlations for Music and Demographic were between\" , \n",
      "\u001b[1;32mc:\\users\\nancy\\venv\\lib\\site-packages\\pandas\\core\\frame.py\u001b[0m in \u001b[0;36m__getitem__\u001b[1;34m(self, key)\u001b[0m\n\u001b[0;32m   2798\u001b[0m             \u001b[1;32mif\u001b[0m \u001b[0mself\u001b[0m\u001b[1;33m.\u001b[0m\u001b[0mcolumns\u001b[0m\u001b[1;33m.\u001b[0m\u001b[0mnlevels\u001b[0m \u001b[1;33m>\u001b[0m \u001b[1;36m1\u001b[0m\u001b[1;33m:\u001b[0m\u001b[1;33m\u001b[0m\u001b[1;33m\u001b[0m\u001b[0m\n\u001b[0;32m   2799\u001b[0m                 \u001b[1;32mreturn\u001b[0m \u001b[0mself\u001b[0m\u001b[1;33m.\u001b[0m\u001b[0m_getitem_multilevel\u001b[0m\u001b[1;33m(\u001b[0m\u001b[0mkey\u001b[0m\u001b[1;33m)\u001b[0m\u001b[1;33m\u001b[0m\u001b[1;33m\u001b[0m\u001b[0m\n\u001b[1;32m-> 2800\u001b[1;33m             \u001b[0mindexer\u001b[0m \u001b[1;33m=\u001b[0m \u001b[0mself\u001b[0m\u001b[1;33m.\u001b[0m\u001b[0mcolumns\u001b[0m\u001b[1;33m.\u001b[0m\u001b[0mget_loc\u001b[0m\u001b[1;33m(\u001b[0m\u001b[0mkey\u001b[0m\u001b[1;33m)\u001b[0m\u001b[1;33m\u001b[0m\u001b[1;33m\u001b[0m\u001b[0m\n\u001b[0m\u001b[0;32m   2801\u001b[0m             \u001b[1;32mif\u001b[0m \u001b[0mis_integer\u001b[0m\u001b[1;33m(\u001b[0m\u001b[0mindexer\u001b[0m\u001b[1;33m)\u001b[0m\u001b[1;33m:\u001b[0m\u001b[1;33m\u001b[0m\u001b[1;33m\u001b[0m\u001b[0m\n\u001b[0;32m   2802\u001b[0m                 \u001b[0mindexer\u001b[0m \u001b[1;33m=\u001b[0m \u001b[1;33m[\u001b[0m\u001b[0mindexer\u001b[0m\u001b[1;33m]\u001b[0m\u001b[1;33m\u001b[0m\u001b[1;33m\u001b[0m\u001b[0m\n",
      "\u001b[1;32mc:\\users\\nancy\\venv\\lib\\site-packages\\pandas\\core\\indexes\\base.py\u001b[0m in \u001b[0;36mget_loc\u001b[1;34m(self, key, method, tolerance)\u001b[0m\n\u001b[0;32m   2646\u001b[0m                 \u001b[1;32mreturn\u001b[0m \u001b[0mself\u001b[0m\u001b[1;33m.\u001b[0m\u001b[0m_engine\u001b[0m\u001b[1;33m.\u001b[0m\u001b[0mget_loc\u001b[0m\u001b[1;33m(\u001b[0m\u001b[0mkey\u001b[0m\u001b[1;33m)\u001b[0m\u001b[1;33m\u001b[0m\u001b[1;33m\u001b[0m\u001b[0m\n\u001b[0;32m   2647\u001b[0m             \u001b[1;32mexcept\u001b[0m \u001b[0mKeyError\u001b[0m\u001b[1;33m:\u001b[0m\u001b[1;33m\u001b[0m\u001b[1;33m\u001b[0m\u001b[0m\n\u001b[1;32m-> 2648\u001b[1;33m                 \u001b[1;32mreturn\u001b[0m \u001b[0mself\u001b[0m\u001b[1;33m.\u001b[0m\u001b[0m_engine\u001b[0m\u001b[1;33m.\u001b[0m\u001b[0mget_loc\u001b[0m\u001b[1;33m(\u001b[0m\u001b[0mself\u001b[0m\u001b[1;33m.\u001b[0m\u001b[0m_maybe_cast_indexer\u001b[0m\u001b[1;33m(\u001b[0m\u001b[0mkey\u001b[0m\u001b[1;33m)\u001b[0m\u001b[1;33m)\u001b[0m\u001b[1;33m\u001b[0m\u001b[1;33m\u001b[0m\u001b[0m\n\u001b[0m\u001b[0;32m   2649\u001b[0m         \u001b[0mindexer\u001b[0m \u001b[1;33m=\u001b[0m \u001b[0mself\u001b[0m\u001b[1;33m.\u001b[0m\u001b[0mget_indexer\u001b[0m\u001b[1;33m(\u001b[0m\u001b[1;33m[\u001b[0m\u001b[0mkey\u001b[0m\u001b[1;33m]\u001b[0m\u001b[1;33m,\u001b[0m \u001b[0mmethod\u001b[0m\u001b[1;33m=\u001b[0m\u001b[0mmethod\u001b[0m\u001b[1;33m,\u001b[0m \u001b[0mtolerance\u001b[0m\u001b[1;33m=\u001b[0m\u001b[0mtolerance\u001b[0m\u001b[1;33m)\u001b[0m\u001b[1;33m\u001b[0m\u001b[1;33m\u001b[0m\u001b[0m\n\u001b[0;32m   2650\u001b[0m         \u001b[1;32mif\u001b[0m \u001b[0mindexer\u001b[0m\u001b[1;33m.\u001b[0m\u001b[0mndim\u001b[0m \u001b[1;33m>\u001b[0m \u001b[1;36m1\u001b[0m \u001b[1;32mor\u001b[0m \u001b[0mindexer\u001b[0m\u001b[1;33m.\u001b[0m\u001b[0msize\u001b[0m \u001b[1;33m>\u001b[0m \u001b[1;36m1\u001b[0m\u001b[1;33m:\u001b[0m\u001b[1;33m\u001b[0m\u001b[1;33m\u001b[0m\u001b[0m\n",
      "\u001b[1;32mpandas\\_libs\\index.pyx\u001b[0m in \u001b[0;36mpandas._libs.index.IndexEngine.get_loc\u001b[1;34m()\u001b[0m\n",
      "\u001b[1;32mpandas\\_libs\\index.pyx\u001b[0m in \u001b[0;36mpandas._libs.index.IndexEngine.get_loc\u001b[1;34m()\u001b[0m\n",
      "\u001b[1;32mpandas\\_libs\\hashtable_class_helper.pxi\u001b[0m in \u001b[0;36mpandas._libs.hashtable.PyObjectHashTable.get_item\u001b[1;34m()\u001b[0m\n",
      "\u001b[1;32mpandas\\_libs\\hashtable_class_helper.pxi\u001b[0m in \u001b[0;36mpandas._libs.hashtable.PyObjectHashTable.get_item\u001b[1;34m()\u001b[0m\n",
      "\u001b[1;31mKeyError\u001b[0m: 'genre'"
     ]
    }
   ],
   "source": [
    "corr_dict={}\n",
    "for dem in demographics:\n",
    "    dem_var=resp[dem]\n",
    "    for col in music:\n",
    "        music_var=resp[col]\n",
    "        corr_dict[(col,dem)]=pd.concat([music_var,dem_var], axis=1).corr(\"pearson\").iloc[0,1]\n",
    "print(\"Correlations for Music and Demographic were between\" , \n",
    "      sorted(corr_dict.items(), key=lambda x: x[1])[0], \"and\",\n",
    "      sorted(corr_dict.items(), key=lambda x: x[1])[-1])\n",
    "\n",
    "n_corr_dict={}\n",
    "for per in personality:\n",
    "    per_var=resp[per]\n",
    "    for col in music:\n",
    "        music_var=resp[col]\n",
    "        n_corr_dict[(col,per)]=pd.concat([music_var,per_var], axis=1).corr(\"pearson\").iloc[0,1]\n",
    "\n",
    "print(\"Correlations for Music and Personality were between\" , \n",
    "      sorted(n_corr_dict.items(), key=lambda x: x[1])[0], \"and\",\n",
    "      sorted(n_corr_dict.items(), key=lambda x: x[1])[-1])"
   ]
  },
  {
   "cell_type": "code",
   "execution_count": null,
   "metadata": {},
   "outputs": [],
   "source": [
    "# Movies\n",
    "corr_dict1={}\n",
    "for dem in demographics:\n",
    "    dem_var=resp[dem]\n",
    "    for col in movie_cols:\n",
    "        movie_var=resp[col]\n",
    "        corr_dict1[(col,dem)]=pd.concat([movie_var,dem_var], axis=1).corr(\"pearson\").iloc[0,1]\n",
    "\n",
    "print(\"Correlations for Movies and Demographics were between\" , \n",
    "      sorted(corr_dict1.items(), key=lambda x: x[1])[0], \"and\",\n",
    "      sorted(corr_dict1.items(), key=lambda x: x[1])[-1])\n",
    "\n",
    "\n",
    "\n",
    "\n",
    "corr_dict2={}\n",
    "for per in personality:\n",
    "    per_var=resp[per]\n",
    "    for col in movie_cols:\n",
    "        movie_var=resp[col]\n",
    "        corr_dict2[(col,per)]=pd.concat([movie_var,per_var], axis=1).corr(\"pearson\").iloc[0,1]\n",
    "\n",
    "print(\"Correlations for Movies and Personality were between\" , \n",
    "      sorted(corr_dict2.items(), key=lambda x: x[1])[0], \"and\",\n",
    "      sorted(corr_dict2.items(), key=lambda x: x[1])[-1])"
   ]
  },
  {
   "cell_type": "code",
   "execution_count": null,
   "metadata": {},
   "outputs": [],
   "source": [
    "# Hobbies\n",
    "corr_dict3={}\n",
    "for dem in demographics:\n",
    "    dem_var=resp[dem]\n",
    "    for col in hobbies:\n",
    "        hob=resp[col]\n",
    "        corr_dict3[(col,dem)]=pd.concat([hob,dem_var], axis=1).corr(\"pearson\").iloc[0,1]\n",
    "        \n",
    "\n",
    "print(\"Correlations for Hobbies and Demographics were between\" , \n",
    "      sorted(corr_dict3.items(), key=lambda x: x[1])[0], \"and\",\n",
    "      sorted(corr_dict3.items(), key=lambda x: x[1])[-1])\n",
    "\n",
    "\n",
    "\n",
    "corr_dict4={}\n",
    "for per in personality:\n",
    "    per_var=resp[per]\n",
    "    for col in hobbies:\n",
    "        hob=resp[col]\n",
    "        corr_dict4[(col,per)]=pd.concat([hob,per_var], axis=1).corr(\"pearson\").iloc[0,1]\n",
    "        \n",
    "print(\"Correlations for Hobbies and Personality were between\" , \n",
    "      sorted(corr_dict4.items(), key=lambda x: x[1])[0], \"and\",\n",
    "      sorted(corr_dict4.items(), key=lambda x: x[1])[-1])\n"
   ]
  },
  {
   "cell_type": "code",
   "execution_count": null,
   "metadata": {},
   "outputs": [],
   "source": []
  }
 ],
 "metadata": {
  "colab": {
   "collapsed_sections": [],
   "name": "Data Exploration.ipynb",
   "provenance": []
  },
  "kernelspec": {
   "display_name": "Python 3",
   "language": "python",
   "name": "python3"
  },
  "language_info": {
   "codemirror_mode": {
    "name": "ipython",
    "version": 3
   },
   "file_extension": ".py",
   "mimetype": "text/x-python",
   "name": "python",
   "nbconvert_exporter": "python",
   "pygments_lexer": "ipython3",
   "version": "3.6.5"
  }
 },
 "nbformat": 4,
 "nbformat_minor": 1
}
