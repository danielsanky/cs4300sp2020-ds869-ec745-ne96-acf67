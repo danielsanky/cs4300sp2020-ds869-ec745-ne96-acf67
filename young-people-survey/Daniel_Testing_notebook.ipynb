{
 "cells": [
  {
   "cell_type": "code",
   "execution_count": 1,
   "metadata": {
    "colab": {},
    "colab_type": "code",
    "id": "msBkb5Efds0D"
   },
   "outputs": [],
   "source": [
    "#write function that takes query input and returns recommendation list"
   ]
  },
  {
   "cell_type": "code",
   "execution_count": 12,
   "metadata": {
    "colab": {},
    "colab_type": "code",
    "id": "1XwnktnieiGT"
   },
   "outputs": [],
   "source": [
    "import numpy as np \n",
    "import pandas as pd \n",
    "import matplotlib.pyplot as plt\n",
    "from collections import Counter\n",
    "from sklearn import tree\n",
    "import random"
   ]
  },
  {
   "cell_type": "code",
   "execution_count": 13,
   "metadata": {},
   "outputs": [],
   "source": [
    "import collections"
   ]
  },
  {
   "cell_type": "code",
   "execution_count": 14,
   "metadata": {
    "colab": {},
    "colab_type": "code",
    "id": "OH0S6RioehaN"
   },
   "outputs": [],
   "source": [
    "#load data\n",
    "cols=pd.read_csv(\"columns.csv\")\n",
    "resp=pd.read_csv(\"responses.csv\")\n",
    "podcasts=pd.read_csv(\"df_popular_podcasts.csv\")\n",
    "movies=pd.read_csv(\"MovieGenre.csv\")\n",
    "music=pd.read_csv(\"SpotifyFeatures.csv\")\n",
    "genre_IDs=[['1311', 'News & Politics'], ['26', 'Podcasts'], ['1479', 'Social Sciences'], ['1315', 'Science & Medicine'], ['1324', 'Society & Culture'], ['1302', 'Personal Journals'], ['1469', 'Language Courses'], ['1304', 'Education'], ['1320', 'Places & Travel'], ['1416', 'Higher Education'], ['1465', 'Professional'], ['1316', 'Sports & Recreation'], ['1303', 'Comedy'], ['1305', 'Kids & Family'], ['1439', 'Christianity'], ['1314', 'Religion & Spirituality'], ['1444', 'Spirituality'], ['1309', 'TV & Film'], ['1462', 'History'], ['1310', 'Music'], ['1478', 'Medicine'], ['1321', 'Business'], ['1412', 'Investing'], ['1420', 'Self-Help'], ['1307', 'Health'], ['1481', 'Alternative Health'], ['1417', 'Fitness & Nutrition'], ['1467', 'Amateur'], ['1480', 'Software How-To'], ['1318', 'Technology'], ['1448', 'Tech News'], ['1456', 'Outdoor'], ['1477', 'Natural Sciences'], ['1301', 'Arts'], ['1454', 'Automotive'], ['1323', 'Games & Hobbies'], ['1438', 'Buddhism'], ['1443', 'Philosophy'], ['1401', 'Literature'], ['1402', 'Design'], ['1410', 'Careers'], ['1470', 'Training'], ['1413', 'Management & Marketing'], ['1306', 'Food'], ['1406', 'Visual Arts'], ['1446', 'Gadgets'], ['1468', 'Educational Technology'], ['1405', 'Performing Arts'], ['1460', 'Hobbies'], ['1471', 'Business News'], ['1404', 'Video Games'], ['1450', 'Podcasting'], ['1473', 'National'], ['1325', 'Government & Organizations'], ['1461', 'Other Games'], ['1466', 'College & High School'], ['1459', 'Fashion & Beauty'], ['1476', 'Non-Profit'], ['1415', 'K-12'], ['1455', 'Aviation'], ['1464', 'Other'], ['1421', 'Sexuality'], ['1472', 'Shopping'], ['1475', 'Local'], ['1441', 'Judaism'], ['1440', 'Islam'], ['1474', 'Regional'], ['1463', 'Hinduism']]"
   ]
  },
  {
   "cell_type": "code",
   "execution_count": 6,
   "metadata": {},
   "outputs": [],
   "source": [
    "genre_to_music={}\n",
    "\n",
    "for i in range(len(music)):\n",
    "    genre=music['genre'][i]\n",
    "    genre=genre.lower()\n",
    "    if genre in genre_to_music:\n",
    "            genre_to_music[genre].append(music['track_name'][i]+\" by \"+music['artist_name'][i])\n",
    "    else:\n",
    "            genre_to_music[genre]=[music['track_name'][i]+ \" by \"+music['artist_name'][i]]"
   ]
  },
  {
   "cell_type": "code",
   "execution_count": null,
   "metadata": {},
   "outputs": [],
   "source": [
    "genre_to_music.keys()"
   ]
  },
  {
   "cell_type": "code",
   "execution_count": 16,
   "metadata": {},
   "outputs": [
    {
     "ename": "IndexError",
     "evalue": "list index out of range",
     "output_type": "error",
     "traceback": [
      "\u001b[1;31m---------------------------------------------------------------------------\u001b[0m",
      "\u001b[1;31mIndexError\u001b[0m                                Traceback (most recent call last)",
      "\u001b[1;32m<ipython-input-16-b78c20b3cde7>\u001b[0m in \u001b[0;36m<module>\u001b[1;34m()\u001b[0m\n\u001b[1;32m----> 1\u001b[1;33m \u001b[0mpodcast\u001b[0m\u001b[1;33m=\u001b[0m\u001b[1;33m[\u001b[0m\u001b[1;33m(\u001b[0m\u001b[0mi\u001b[0m\u001b[1;33m[\u001b[0m\u001b[1;36m0\u001b[0m\u001b[1;33m]\u001b[0m\u001b[1;33m,\u001b[0m \u001b[0mi\u001b[0m\u001b[1;33m[\u001b[0m\u001b[1;36m1\u001b[0m\u001b[1;33m]\u001b[0m\u001b[1;33m,\u001b[0m \u001b[0mlist\u001b[0m\u001b[1;33m(\u001b[0m\u001b[0mpodcasts\u001b[0m\u001b[1;33m.\u001b[0m\u001b[0mloc\u001b[0m\u001b[1;33m[\u001b[0m\u001b[0mpodcasts\u001b[0m\u001b[1;33m[\u001b[0m\u001b[1;34m\"Name\"\u001b[0m\u001b[1;33m]\u001b[0m \u001b[1;33m==\u001b[0m \u001b[0mi\u001b[0m\u001b[1;33m[\u001b[0m\u001b[1;36m0\u001b[0m\u001b[1;33m]\u001b[0m\u001b[1;33m]\u001b[0m\u001b[1;33m[\u001b[0m\u001b[1;34m\"Podcast URL\"\u001b[0m\u001b[1;33m]\u001b[0m\u001b[1;33m.\u001b[0m\u001b[0mto_dict\u001b[0m\u001b[1;33m(\u001b[0m\u001b[1;33m)\u001b[0m\u001b[1;33m.\u001b[0m\u001b[0mvalues\u001b[0m\u001b[1;33m(\u001b[0m\u001b[1;33m)\u001b[0m\u001b[1;33m)\u001b[0m\u001b[1;33m[\u001b[0m\u001b[1;36m0\u001b[0m\u001b[1;33m]\u001b[0m\u001b[1;33m)\u001b[0m \u001b[1;32mfor\u001b[0m \u001b[0mi\u001b[0m \u001b[1;32min\u001b[0m  \u001b[0mpodcasts\u001b[0m\u001b[1;33m]\u001b[0m\u001b[1;33m\u001b[0m\u001b[1;33m\u001b[0m\u001b[0m\n\u001b[0m",
      "\u001b[1;32m<ipython-input-16-b78c20b3cde7>\u001b[0m in \u001b[0;36m<listcomp>\u001b[1;34m(.0)\u001b[0m\n\u001b[1;32m----> 1\u001b[1;33m \u001b[0mpodcast\u001b[0m\u001b[1;33m=\u001b[0m\u001b[1;33m[\u001b[0m\u001b[1;33m(\u001b[0m\u001b[0mi\u001b[0m\u001b[1;33m[\u001b[0m\u001b[1;36m0\u001b[0m\u001b[1;33m]\u001b[0m\u001b[1;33m,\u001b[0m \u001b[0mi\u001b[0m\u001b[1;33m[\u001b[0m\u001b[1;36m1\u001b[0m\u001b[1;33m]\u001b[0m\u001b[1;33m,\u001b[0m \u001b[0mlist\u001b[0m\u001b[1;33m(\u001b[0m\u001b[0mpodcasts\u001b[0m\u001b[1;33m.\u001b[0m\u001b[0mloc\u001b[0m\u001b[1;33m[\u001b[0m\u001b[0mpodcasts\u001b[0m\u001b[1;33m[\u001b[0m\u001b[1;34m\"Name\"\u001b[0m\u001b[1;33m]\u001b[0m \u001b[1;33m==\u001b[0m \u001b[0mi\u001b[0m\u001b[1;33m[\u001b[0m\u001b[1;36m0\u001b[0m\u001b[1;33m]\u001b[0m\u001b[1;33m]\u001b[0m\u001b[1;33m[\u001b[0m\u001b[1;34m\"Podcast URL\"\u001b[0m\u001b[1;33m]\u001b[0m\u001b[1;33m.\u001b[0m\u001b[0mto_dict\u001b[0m\u001b[1;33m(\u001b[0m\u001b[1;33m)\u001b[0m\u001b[1;33m.\u001b[0m\u001b[0mvalues\u001b[0m\u001b[1;33m(\u001b[0m\u001b[1;33m)\u001b[0m\u001b[1;33m)\u001b[0m\u001b[1;33m[\u001b[0m\u001b[1;36m0\u001b[0m\u001b[1;33m]\u001b[0m\u001b[1;33m)\u001b[0m \u001b[1;32mfor\u001b[0m \u001b[0mi\u001b[0m \u001b[1;32min\u001b[0m  \u001b[0mpodcasts\u001b[0m\u001b[1;33m]\u001b[0m\u001b[1;33m\u001b[0m\u001b[1;33m\u001b[0m\u001b[0m\n\u001b[0m",
      "\u001b[1;31mIndexError\u001b[0m: list index out of range"
     ]
    }
   ],
   "source": [
    "podcast=[(i[0], i[1], list(podcasts.loc[podcasts[\"Name\"] == i[0]][\"Podcast URL\"].to_dict().values())[0]) for i in  podcasts]"
   ]
  },
  {
   "cell_type": "code",
   "execution_count": null,
   "metadata": {
    "scrolled": true
   },
   "outputs": [],
   "source": [
    "# Better organize the id vs name of genre\n",
    "dict_pod={int(id[0]):id[1] for id in genre_IDs }\n",
    "\n",
    "# {Genre ID:NAMES OF PODCAST} \n",
    "genre_to_podcast={key:[] for key in dict_pod }\n",
    "for item in podcasts.index:\n",
    "    array=podcasts[\"Genre IDs\"][item][1:-1].split(',')\n",
    "    array=[int(array[i].replace('\\'', '').strip('\\'')) for i in range(len(array))]\n",
    "    for j in range(len(array)):\n",
    "        genre_to_podcast[array[j]].append(podcasts[\"Name\"][item])\n",
    "#final_dict={key.lower():value for key,value in final_dict}\n",
    "final_dict={list(dict_pod.values())[p]:list(genre_to_podcast.values())[p] for p in range(len(genre_to_podcast.keys()))}\n",
    "final_dict = dict((k.lower(), v) for k, v in final_dict.items()) "
   ]
  },
  {
   "cell_type": "code",
   "execution_count": null,
   "metadata": {},
   "outputs": [],
   "source": [
    "genre_to_movie={}\n",
    "for i in range( len(movies)):\n",
    "    line=str(movies[\"Genre\"][i])\n",
    "    for genre in line.split(\"|\"):\n",
    "        genre=genre.lower()\n",
    "        if genre in genre_to_movie:\n",
    "            genre_to_movie[genre].append(movies[\"Title\"][i])\n",
    "        else: \n",
    "            genre_to_movie[genre]=[movies[\"Title\"][i]]\n"
   ]
  },
  {
   "cell_type": "code",
   "execution_count": null,
   "metadata": {},
   "outputs": [],
   "source": [
    "print(genre_to_movie)"
   ]
  },
  {
   "cell_type": "code",
   "execution_count": null,
   "metadata": {},
   "outputs": [],
   "source": [
    "movies.columns"
   ]
  },
  {
   "cell_type": "code",
   "execution_count": null,
   "metadata": {},
   "outputs": [],
   "source": [
    "#dependent vbs\n",
    "music_cols=cols[:19][\"short\"]\n",
    "movie_cols=cols[19:31][\"short\"]\n",
    "hobbies=cols[31:63][\"short\"]\n",
    "\n",
    "#independent vbs\n",
    "personality=cols[76:133][\"short\"]\n",
    "demographics=cols.iloc[[140, 144, 146]][\"short\"]"
   ]
  },
  {
   "cell_type": "code",
   "execution_count": null,
   "metadata": {},
   "outputs": [],
   "source": [
    "def gender_numeric(gender):   \n",
    "    return {\n",
    "        'female': 1,\n",
    "        'male':0, \n",
    "    }.get(gender,float(\"nan\"))\n",
    "\n",
    "resp[\"Gender\"]=list(map(gender_numeric, list(resp[\"Gender\"])))\n",
    "resp"
   ]
  },
  {
   "cell_type": "code",
   "execution_count": null,
   "metadata": {},
   "outputs": [],
   "source": [
    "# Convert education to quantitative values and reassign to table\n",
    "def edu_level_numeric(edu):   \n",
    "    return {\n",
    "        'currently a primary school pupil': 0,\n",
    "        'primary school': 1,\n",
    "        'secondary school': 2, \n",
    "        'college/bachelor degree': 3,\n",
    "        'masters degree': 4,   \n",
    "        'doctorate degree': 5\n",
    "    }.get(edu,float(\"nan\"))\n",
    "\n",
    "resp[\"Education\"]=list(map(edu_level_numeric, list(resp[\"Education\"])))"
   ]
  },
  {
   "cell_type": "code",
   "execution_count": null,
   "metadata": {},
   "outputs": [],
   "source": [
    "music_resp=resp.iloc[:, :19]\n",
    "movie_resp=resp.iloc[:, 19:31]\n",
    "hobbies_resp=resp.iloc[:, 31:63]\n",
    "personality_resp=resp.iloc[:, [79, 80, 105, 106, 109, 110, 113, 129, 132]]\n",
    "demographics_resp=resp.iloc[:, [140, 144, 146, 147]]\n",
    "\n",
    "final_mat=pd.concat([music_resp, movie_resp, hobbies_resp, personality_resp, demographics_resp], axis=1)\n",
    "final_mat=final_mat.rename(columns={\"New environment\": \"adapt\", \"Socializing\": \"meeting-people\", \"Waiting\":\"patient\", \"Number of friends\": \"friends\", \"Workaholism\": \"study\", \"Thinking ahead\": \"perspectives\", \"Charity\": \"charity\", \"Interests or hobbies\": \"differ-hobbies\"})\n",
    "\n",
    "corr_mat=pd.DataFrame.corr(final_mat)\n",
    "corr_mat.columns = map(str.lower, corr_mat.columns)\n",
    "corr_mat.index = map(str.lower, corr_mat.index)\n",
    "corr_mat.columns"
   ]
  },
  {
   "cell_type": "code",
   "execution_count": null,
   "metadata": {},
   "outputs": [],
   "source": [
    "def recs(genre_dict, genre_query, corr_query):\n",
    "    \"\"\"Returns a list of recommendations based on interests user clicked in form\n",
    "    Params: {query: list of genre names, genre_dict: dictionary that maps genre to titles, corr_dict: maps personality questions to answers given in survey}\n",
    "    Returns: list of tuples containing titles and scores\n",
    "    \"\"\"\n",
    "    \n",
    "    #query is an array of genre_names\n",
    "    #corr_query is a dictionary of radio button responses like {'all-music': 'R&B', 'all-movies': 'Horror', 'all-interests': 'Social Sciences', 'gender': 'female', 'education': 'no'}\n",
    "    if 'all-interests' in corr_query: \n",
    "        corr_query.pop('all-interests')\n",
    "    if 'all-movies' in corr_query:\n",
    "        corr_query.pop('all-movies')\n",
    "    if 'all-music' in corr_query:\n",
    "        corr_query.pop('all-music')\n",
    "    if not corr_query: #check if empty\n",
    "        corr_query={'charity': '3', 'adapt': '3', 'meeting-people': '3', 'patient': '3', 'friends': '3', 'study': '3', 'perspectives': '3', 'differ-hobbies': '3' }\n",
    "        \n",
    "    genre_query=[genre.lower() for genre in genre_query]\n",
    "    \n",
    "    counter={}\n",
    "    for key in corr_query:\n",
    "        val=float(corr_query[key]) \n",
    "        if val > 3.0:\n",
    "            val = val - 3\n",
    "        elif val == 3.0:\n",
    "            val = 1\n",
    "        elif val < 3.0:\n",
    "            val = val* - 1\n",
    "        for cat in genre_query: \n",
    "            corr=float(corr_mat[key][cat])\n",
    "            weighted=corr*val\n",
    "            for film in genre_dict[cat]:\n",
    "                if film in counter:\n",
    "                    counter[film]+=weighted\n",
    "                else: \n",
    "                    counter[film]=weighted\n",
    "\n",
    "    results = list(counter.items())\n",
    "    random.shuffle(results)\n",
    "    results.sort(key=lambda x: x[1], reverse=True)\n",
    "    highest_score=results[0][1]\n",
    "   \n",
    "    output=[]\n",
    "    for result in results[:5]:\n",
    "        output.append((result[0], result[1]/highest_score))\n",
    "     \n",
    "    return output"
   ]
  },
  {
   "cell_type": "code",
   "execution_count": null,
   "metadata": {},
   "outputs": [],
   "source": [
    "recs(final_dict, ['Religion & Spirituality'], {})"
   ]
  },
  {
   "cell_type": "code",
   "execution_count": null,
   "metadata": {},
   "outputs": [],
   "source": []
  },
  {
   "cell_type": "code",
   "execution_count": null,
   "metadata": {},
   "outputs": [],
   "source": [
    "# Convert education to quantitative values and reassign to table\n",
    "def edu_level_numeric(edu):   \n",
    "    return {\n",
    "        'currently a primary school pupil': 0,\n",
    "        'primary school': 1,\n",
    "        'secondary school': 2, \n",
    "        'college/bachelor degree': 3,\n",
    "        'masters degree': 4,   \n",
    "        'doctorate degree': 5\n",
    "    }.get(edu,float(\"nan\"))\n",
    "resp[\"Education\"]=list(map(edu_level_numeric, list(resp[\"Education\"])))"
   ]
  },
  {
   "cell_type": "code",
   "execution_count": null,
   "metadata": {},
   "outputs": [],
   "source": [
    "def gender_numeric(gender):   \n",
    "    return {\n",
    "        'female': 0,\n",
    "        'male':1\n",
    "    }.get(gender,float(\"nan\"))\n",
    "resp[\"Gender\"]=list(map(gender_numeric, list(resp[\"Gender\"])))"
   ]
  },
  {
   "cell_type": "code",
   "execution_count": null,
   "metadata": {},
   "outputs": [],
   "source": [
    "# NOW FOR PERSONALITY\n",
    "def punct_numeric(punct):   \n",
    "    return {\n",
    "        'i am often early': 1,\n",
    "        'i am always on time':2,\n",
    "        'i am often running late': 3\n",
    "    }.get(punct,float(\"nan\"))\n",
    "resp[\"Punctuality\"]=list(map(punct_numeric, list(resp[\"Punctuality\"])))\n",
    "\n",
    "\n",
    "\n",
    "def ly_numeric(lying):\n",
    "    return {\n",
    "        'never':0,\n",
    "        'only to avoid hurting someone': 1,\n",
    "        'sometimes': 2,\n",
    "        'everytime it suits me': 3\n",
    "    }.get(lying,float(\"nan\"))\n",
    "resp[\"Lying\"]=list(map(ly_numeric,list(resp[\"Lying\"])))\n",
    "\n",
    "\n",
    "def web_numeric(web):\n",
    "    return{\n",
    "        'no time at all': 0, \n",
    "        'less than an hour a day': 1,\n",
    "        'few hours a day': 2,\n",
    "         'most of the day': 3\n",
    "    }.get(web,float(\"nan\"))\n",
    "resp[\"Internet usage\"]=list(map(web_numeric,list(resp[\"Internet usage\"])))"
   ]
  },
  {
   "cell_type": "code",
   "execution_count": null,
   "metadata": {},
   "outputs": [],
   "source": [
    "corr_dict={}\n",
    "for dem in demographics:\n",
    "    dem_var=resp[dem]\n",
    "    for col in music:\n",
    "        music_var=resp[col]\n",
    "        corr_dict[(col,dem)]=pd.concat([music_var,dem_var], axis=1).corr(\"pearson\").iloc[0,1]\n",
    "print(\"Correlations for Music and Demographic were between\" , \n",
    "      sorted(corr_dict.items(), key=lambda x: x[1])[0], \"and\",\n",
    "      sorted(corr_dict.items(), key=lambda x: x[1])[-1])\n",
    "\n",
    "n_corr_dict={}\n",
    "for per in personality:\n",
    "    per_var=resp[per]\n",
    "    for col in music:\n",
    "        music_var=resp[col]\n",
    "        n_corr_dict[(col,per)]=pd.concat([music_var,per_var], axis=1).corr(\"pearson\").iloc[0,1]\n",
    "\n",
    "print(\"Correlations for Music and Personality were between\" , \n",
    "      sorted(n_corr_dict.items(), key=lambda x: x[1])[0], \"and\",\n",
    "      sorted(n_corr_dict.items(), key=lambda x: x[1])[-1])"
   ]
  },
  {
   "cell_type": "code",
   "execution_count": null,
   "metadata": {},
   "outputs": [],
   "source": [
    "# Movies\n",
    "corr_dict1={}\n",
    "for dem in demographics:\n",
    "    dem_var=resp[dem]\n",
    "    for col in movie_cols:\n",
    "        movie_var=resp[col]\n",
    "        corr_dict1[(col,dem)]=pd.concat([movie_var,dem_var], axis=1).corr(\"pearson\").iloc[0,1]\n",
    "\n",
    "print(\"Correlations for Movies and Demographics were between\" , \n",
    "      sorted(corr_dict1.items(), key=lambda x: x[1])[0], \"and\",\n",
    "      sorted(corr_dict1.items(), key=lambda x: x[1])[-1])\n",
    "\n",
    "\n",
    "\n",
    "\n",
    "corr_dict2={}\n",
    "for per in personality:\n",
    "    per_var=resp[per]\n",
    "    for col in movie_cols:\n",
    "        movie_var=resp[col]\n",
    "        corr_dict2[(col,per)]=pd.concat([movie_var,per_var], axis=1).corr(\"pearson\").iloc[0,1]\n",
    "\n",
    "print(\"Correlations for Movies and Personality were between\" , \n",
    "      sorted(corr_dict2.items(), key=lambda x: x[1])[0], \"and\",\n",
    "      sorted(corr_dict2.items(), key=lambda x: x[1])[-1])"
   ]
  },
  {
   "cell_type": "code",
   "execution_count": null,
   "metadata": {},
   "outputs": [],
   "source": [
    "# Hobbies\n",
    "corr_dict3={}\n",
    "for dem in demographics:\n",
    "    dem_var=resp[dem]\n",
    "    for col in hobbies:\n",
    "        hob=resp[col]\n",
    "        corr_dict3[(col,dem)]=pd.concat([hob,dem_var], axis=1).corr(\"pearson\").iloc[0,1]\n",
    "        \n",
    "\n",
    "print(\"Correlations for Hobbies and Demographics were between\" , \n",
    "      sorted(corr_dict3.items(), key=lambda x: x[1])[0], \"and\",\n",
    "      sorted(corr_dict3.items(), key=lambda x: x[1])[-1])\n",
    "\n",
    "\n",
    "\n",
    "corr_dict4={}\n",
    "for per in personality:\n",
    "    per_var=resp[per]\n",
    "    for col in hobbies:\n",
    "        hob=resp[col]\n",
    "        corr_dict4[(col,per)]=pd.concat([hob,per_var], axis=1).corr(\"pearson\").iloc[0,1]\n",
    "        \n",
    "print(\"Correlations for Hobbies and Personality were between\" , \n",
    "      sorted(corr_dict4.items(), key=lambda x: x[1])[0], \"and\",\n",
    "      sorted(corr_dict4.items(), key=lambda x: x[1])[-1])\n"
   ]
  },
  {
   "cell_type": "code",
   "execution_count": null,
   "metadata": {},
   "outputs": [],
   "source": []
  }
 ],
 "metadata": {
  "colab": {
   "collapsed_sections": [],
   "name": "Data Exploration.ipynb",
   "provenance": []
  },
  "kernelspec": {
   "display_name": "Python 3",
   "language": "python",
   "name": "python3"
  },
  "language_info": {
   "codemirror_mode": {
    "name": "ipython",
    "version": 3
   },
   "file_extension": ".py",
   "mimetype": "text/x-python",
   "name": "python",
   "nbconvert_exporter": "python",
   "pygments_lexer": "ipython3",
   "version": "3.7.6"
  }
 },
 "nbformat": 4,
 "nbformat_minor": 1
}
