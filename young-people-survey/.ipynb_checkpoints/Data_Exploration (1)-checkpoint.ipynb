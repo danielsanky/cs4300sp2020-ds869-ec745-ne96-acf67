{
 "cells": [
  {
   "cell_type": "code",
   "execution_count": 3,
   "metadata": {
    "colab": {},
    "colab_type": "code",
    "id": "msBkb5Efds0D"
   },
   "outputs": [],
   "source": [
    "#write function that takes query input and returns recommendation list"
   ]
  },
  {
   "cell_type": "code",
   "execution_count": 4,
   "metadata": {
    "colab": {},
    "colab_type": "code",
    "id": "1XwnktnieiGT"
   },
   "outputs": [],
   "source": [
    "import numpy as np \n",
    "import pandas as pd \n",
    "import matplotlib.pyplot as plt\n",
    "from collections import Counter"
   ]
  },
  {
   "cell_type": "code",
   "execution_count": 5,
   "metadata": {
    "colab": {},
    "colab_type": "code",
    "id": "OH0S6RioehaN"
   },
   "outputs": [],
   "source": [
    "#load data\n",
    "cols=pd.read_csv(\"columns.csv\")\n",
    "resp=pd.read_csv(\"responses.csv\")\n",
    "podcasts=pd.read_csv(\"df_popular_podcasts.csv\")\n",
    "music=pd.read_csv(\"SpotifyFeatures.csv\")\n",
    "genre_IDs=[['1311', 'News & Politics'], ['26', 'Podcasts'], ['1479', 'Social Sciences'], ['1315', 'Science & Medicine'], ['1324', 'Society & Culture'], ['1302', 'Personal Journals'], ['1469', 'Language Courses'], ['1304', 'Education'], ['1320', 'Places & Travel'], ['1416', 'Higher Education'], ['1465', 'Professional'], ['1316', 'Sports & Recreation'], ['1303', 'Comedy'], ['1305', 'Kids & Family'], ['1439', 'Christianity'], ['1314', 'Religion & Spirituality'], ['1444', 'Spirituality'], ['1309', 'TV & Film'], ['1462', 'History'], ['1310', 'Music'], ['1478', 'Medicine'], ['1321', 'Business'], ['1412', 'Investing'], ['1420', 'Self-Help'], ['1307', 'Health'], ['1481', 'Alternative Health'], ['1417', 'Fitness & Nutrition'], ['1467', 'Amateur'], ['1480', 'Software How-To'], ['1318', 'Technology'], ['1448', 'Tech News'], ['1456', 'Outdoor'], ['1477', 'Natural Sciences'], ['1301', 'Arts'], ['1454', 'Automotive'], ['1323', 'Games & Hobbies'], ['1438', 'Buddhism'], ['1443', 'Philosophy'], ['1401', 'Literature'], ['1402', 'Design'], ['1410', 'Careers'], ['1470', 'Training'], ['1413', 'Management & Marketing'], ['1306', 'Food'], ['1406', 'Visual Arts'], ['1446', 'Gadgets'], ['1468', 'Educational Technology'], ['1405', 'Performing Arts'], ['1460', 'Hobbies'], ['1471', 'Business News'], ['1404', 'Video Games'], ['1450', 'Podcasting'], ['1473', 'National'], ['1325', 'Government & Organizations'], ['1461', 'Other Games'], ['1466', 'College & High School'], ['1459', 'Fashion & Beauty'], ['1476', 'Non-Profit'], ['1415', 'K-12'], ['1455', 'Aviation'], ['1464', 'Other'], ['1421', 'Sexuality'], ['1472', 'Shopping'], ['1475', 'Local'], ['1441', 'Judaism'], ['1440', 'Islam'], ['1474', 'Regional'], ['1463', 'Hinduism']]"
   ]
  },
  {
   "cell_type": "code",
   "execution_count": 13,
   "metadata": {
    "scrolled": false
   },
   "outputs": [
    {
     "data": {
      "text/html": [
       "<div>\n",
       "<style scoped>\n",
       "    .dataframe tbody tr th:only-of-type {\n",
       "        vertical-align: middle;\n",
       "    }\n",
       "\n",
       "    .dataframe tbody tr th {\n",
       "        vertical-align: top;\n",
       "    }\n",
       "\n",
       "    .dataframe thead th {\n",
       "        text-align: right;\n",
       "    }\n",
       "</style>\n",
       "<table border=\"1\" class=\"dataframe\">\n",
       "  <thead>\n",
       "    <tr style=\"text-align: right;\">\n",
       "      <th></th>\n",
       "      <th>genre</th>\n",
       "      <th>artist_name</th>\n",
       "      <th>track_name</th>\n",
       "      <th>track_id</th>\n",
       "      <th>popularity</th>\n",
       "      <th>acousticness</th>\n",
       "      <th>danceability</th>\n",
       "      <th>duration_ms</th>\n",
       "      <th>energy</th>\n",
       "      <th>instrumentalness</th>\n",
       "      <th>key</th>\n",
       "      <th>liveness</th>\n",
       "      <th>loudness</th>\n",
       "      <th>mode</th>\n",
       "      <th>speechiness</th>\n",
       "      <th>tempo</th>\n",
       "      <th>time_signature</th>\n",
       "      <th>valence</th>\n",
       "    </tr>\n",
       "  </thead>\n",
       "  <tbody>\n",
       "    <tr>\n",
       "      <th>0</th>\n",
       "      <td>Movie</td>\n",
       "      <td>Henri Salvador</td>\n",
       "      <td>C'est beau de faire un Show</td>\n",
       "      <td>0BRjO6ga9RKCKjfDqeFgWV</td>\n",
       "      <td>0</td>\n",
       "      <td>0.611</td>\n",
       "      <td>0.389</td>\n",
       "      <td>99373</td>\n",
       "      <td>0.910</td>\n",
       "      <td>0.000</td>\n",
       "      <td>C#</td>\n",
       "      <td>0.3460</td>\n",
       "      <td>-1.828</td>\n",
       "      <td>Major</td>\n",
       "      <td>0.0525</td>\n",
       "      <td>166.969</td>\n",
       "      <td>4-Apr</td>\n",
       "      <td>0.814</td>\n",
       "    </tr>\n",
       "    <tr>\n",
       "      <th>1</th>\n",
       "      <td>Movie</td>\n",
       "      <td>Martin &amp; les fées</td>\n",
       "      <td>Perdu d'avance (par Gad Elmaleh)</td>\n",
       "      <td>0BjC1NfoEOOusryehmNudP</td>\n",
       "      <td>1</td>\n",
       "      <td>0.246</td>\n",
       "      <td>0.590</td>\n",
       "      <td>137373</td>\n",
       "      <td>0.737</td>\n",
       "      <td>0.000</td>\n",
       "      <td>F#</td>\n",
       "      <td>0.1510</td>\n",
       "      <td>-5.559</td>\n",
       "      <td>Minor</td>\n",
       "      <td>0.0868</td>\n",
       "      <td>174.003</td>\n",
       "      <td>4-Apr</td>\n",
       "      <td>0.816</td>\n",
       "    </tr>\n",
       "    <tr>\n",
       "      <th>2</th>\n",
       "      <td>Movie</td>\n",
       "      <td>Joseph Williams</td>\n",
       "      <td>Don't Let Me Be Lonely Tonight</td>\n",
       "      <td>0CoSDzoNIKCRs124s9uTVy</td>\n",
       "      <td>3</td>\n",
       "      <td>0.952</td>\n",
       "      <td>0.663</td>\n",
       "      <td>170267</td>\n",
       "      <td>0.131</td>\n",
       "      <td>0.000</td>\n",
       "      <td>C</td>\n",
       "      <td>0.1030</td>\n",
       "      <td>-13.879</td>\n",
       "      <td>Minor</td>\n",
       "      <td>0.0362</td>\n",
       "      <td>99.488</td>\n",
       "      <td>4-May</td>\n",
       "      <td>0.368</td>\n",
       "    </tr>\n",
       "    <tr>\n",
       "      <th>3</th>\n",
       "      <td>Movie</td>\n",
       "      <td>Henri Salvador</td>\n",
       "      <td>Dis-moi Monsieur Gordon Cooper</td>\n",
       "      <td>0Gc6TVm52BwZD07Ki6tIvf</td>\n",
       "      <td>0</td>\n",
       "      <td>0.703</td>\n",
       "      <td>0.240</td>\n",
       "      <td>152427</td>\n",
       "      <td>0.326</td>\n",
       "      <td>0.000</td>\n",
       "      <td>C#</td>\n",
       "      <td>0.0985</td>\n",
       "      <td>-12.178</td>\n",
       "      <td>Major</td>\n",
       "      <td>0.0395</td>\n",
       "      <td>171.758</td>\n",
       "      <td>4-Apr</td>\n",
       "      <td>0.227</td>\n",
       "    </tr>\n",
       "    <tr>\n",
       "      <th>4</th>\n",
       "      <td>Movie</td>\n",
       "      <td>Fabien Nataf</td>\n",
       "      <td>Ouverture</td>\n",
       "      <td>0IuslXpMROHdEPvSl1fTQK</td>\n",
       "      <td>4</td>\n",
       "      <td>0.950</td>\n",
       "      <td>0.331</td>\n",
       "      <td>82625</td>\n",
       "      <td>0.225</td>\n",
       "      <td>0.123</td>\n",
       "      <td>F</td>\n",
       "      <td>0.2020</td>\n",
       "      <td>-21.150</td>\n",
       "      <td>Major</td>\n",
       "      <td>0.0456</td>\n",
       "      <td>140.576</td>\n",
       "      <td>4-Apr</td>\n",
       "      <td>0.390</td>\n",
       "    </tr>\n",
       "  </tbody>\n",
       "</table>\n",
       "</div>"
      ],
      "text/plain": [
       "   genre        artist_name                        track_name  \\\n",
       "0  Movie     Henri Salvador       C'est beau de faire un Show   \n",
       "1  Movie  Martin & les fées  Perdu d'avance (par Gad Elmaleh)   \n",
       "2  Movie    Joseph Williams    Don't Let Me Be Lonely Tonight   \n",
       "3  Movie     Henri Salvador    Dis-moi Monsieur Gordon Cooper   \n",
       "4  Movie       Fabien Nataf                         Ouverture   \n",
       "\n",
       "                 track_id  popularity  acousticness  danceability  \\\n",
       "0  0BRjO6ga9RKCKjfDqeFgWV           0         0.611         0.389   \n",
       "1  0BjC1NfoEOOusryehmNudP           1         0.246         0.590   \n",
       "2  0CoSDzoNIKCRs124s9uTVy           3         0.952         0.663   \n",
       "3  0Gc6TVm52BwZD07Ki6tIvf           0         0.703         0.240   \n",
       "4  0IuslXpMROHdEPvSl1fTQK           4         0.950         0.331   \n",
       "\n",
       "   duration_ms  energy  instrumentalness key  liveness  loudness   mode  \\\n",
       "0        99373   0.910             0.000  C#    0.3460    -1.828  Major   \n",
       "1       137373   0.737             0.000  F#    0.1510    -5.559  Minor   \n",
       "2       170267   0.131             0.000   C    0.1030   -13.879  Minor   \n",
       "3       152427   0.326             0.000  C#    0.0985   -12.178  Major   \n",
       "4        82625   0.225             0.123   F    0.2020   -21.150  Major   \n",
       "\n",
       "   speechiness    tempo time_signature  valence  \n",
       "0       0.0525  166.969          4-Apr    0.814  \n",
       "1       0.0868  174.003          4-Apr    0.816  \n",
       "2       0.0362   99.488          4-May    0.368  \n",
       "3       0.0395  171.758          4-Apr    0.227  \n",
       "4       0.0456  140.576          4-Apr    0.390  "
      ]
     },
     "execution_count": 13,
     "metadata": {},
     "output_type": "execute_result"
    }
   ],
   "source": [
    "music.head()"
   ]
  },
  {
   "cell_type": "code",
   "execution_count": 14,
   "metadata": {},
   "outputs": [],
   "source": [
    "genre_to_music={}\n",
    "\n",
    "for i in range(len(music)):\n",
    "    genre=music['genre'][i]\n",
    "    if genre in genre_to_music:\n",
    "            genre_to_music[genre].append(music['track_name'][i])\n",
    "    else:\n",
    "            genre_to_music[genre]=[(music['track_name'][i], music['artist_name'][i])]"
   ]
  },
  {
   "cell_type": "code",
   "execution_count": 8,
   "metadata": {},
   "outputs": [
    {
     "data": {
      "text/plain": [
       "dict_keys(['Movie', 'R&B', 'A Capella', 'Alternative', 'Country', 'Dance', 'Electronic', 'Anime', 'Folk', 'Blues', 'Opera', 'Hip-Hop', \"Children's Music\", 'Children’s Music', 'Rap', 'Indie', 'Classical', 'Pop', 'Reggae', 'Reggaeton', 'Jazz', 'Rock', 'Ska', 'Comedy', 'Soul', 'Soundtrack', 'World'])"
      ]
     },
     "execution_count": 8,
     "metadata": {},
     "output_type": "execute_result"
    }
   ],
   "source": [
    "genre_to_music.keys()"
   ]
  },
  {
   "cell_type": "code",
   "execution_count": 9,
   "metadata": {},
   "outputs": [],
   "source": [
    "# Better organize the id vs name of genre\n",
    "dict_pod={int(id[0]):id[1] for id in genre_IDs }\n",
    "\n",
    "# {Genre ID:NAMES OF PODCAST} \n",
    "genre_to_podcast={key:[] for key in dict_pod }\n",
    "\n",
    "for item in podcasts.index:\n",
    "    array=podcasts[\"Genre IDs\"][item][1:-1].split(',')\n",
    "    array=[int(array[i].replace('\\'', '').strip('\\'')) for i in range(len(array))]\n",
    "    for j in range(len(array)):\n",
    "        genre_to_podcast[array[j]].append(podcasts[\"Name\"][item])\n",
    "\n",
    "final_dict={list(dict_pod.values())[p]:list(genre_to_podcast.values())[p] for p in range(len(genre_to_podcast.keys()))}"
   ]
  },
  {
   "cell_type": "code",
   "execution_count": null,
   "metadata": {},
   "outputs": [],
   "source": []
  },
  {
   "cell_type": "code",
   "execution_count": 10,
   "metadata": {},
   "outputs": [
    {
     "name": "stdout",
     "output_type": "stream",
     "text": [
      "dict_keys(['News & Politics', 'Podcasts', 'Social Sciences', 'Science & Medicine', 'Society & Culture', 'Personal Journals', 'Language Courses', 'Education', 'Places & Travel', 'Higher Education', 'Professional', 'Sports & Recreation', 'Comedy', 'Kids & Family', 'Christianity', 'Religion & Spirituality', 'Spirituality', 'TV & Film', 'History', 'Music', 'Medicine', 'Business', 'Investing', 'Self-Help', 'Health', 'Alternative Health', 'Fitness & Nutrition', 'Amateur', 'Software How-To', 'Technology', 'Tech News', 'Outdoor', 'Natural Sciences', 'Arts', 'Automotive', 'Games & Hobbies', 'Buddhism', 'Philosophy', 'Literature', 'Design', 'Careers', 'Training', 'Management & Marketing', 'Food', 'Visual Arts', 'Gadgets', 'Educational Technology', 'Performing Arts', 'Hobbies', 'Business News', 'Video Games', 'Podcasting', 'National', 'Government & Organizations', 'Other Games', 'College & High School', 'Fashion & Beauty', 'Non-Profit', 'K-12', 'Aviation', 'Other', 'Sexuality', 'Shopping', 'Local', 'Judaism', 'Islam', 'Regional', 'Hinduism'])\n"
     ]
    }
   ],
   "source": [
    "print(final_dict.keys())"
   ]
  },
  {
   "cell_type": "code",
   "execution_count": 11,
   "metadata": {},
   "outputs": [],
   "source": [
    "def podcast_recs(genres):\n",
    "    \"\"\"Returns a list of podcasts based on interests user clicked in form\n",
    "    \n",
    "    Params: {genres: list or set of genre names}\n",
    "    Returns: list of podcast titles and scores\n",
    "    \"\"\"\n",
    "    #compare input to genres in podcast data set \n",
    "    #index podcast dataset by genre: all comedies in one list etc\n",
    "    #for genre in genres\n",
    "    #then for each one we find all the podcasts matching the genre ID\n",
    "    #then increment their score by something \n",
    "    #for genre in genres:\n",
    "        \n",
    "        \n",
    "    "
   ]
  },
  {
   "cell_type": "code",
   "execution_count": 12,
   "metadata": {},
   "outputs": [
    {
     "ename": "NameError",
     "evalue": "name 'movies' is not defined",
     "output_type": "error",
     "traceback": [
      "\u001b[1;31m---------------------------------------------------------------------------\u001b[0m",
      "\u001b[1;31mNameError\u001b[0m                                 Traceback (most recent call last)",
      "\u001b[1;32m<ipython-input-12-6b5bb16b606d>\u001b[0m in \u001b[0;36m<module>\u001b[1;34m()\u001b[0m\n\u001b[1;32m----> 1\u001b[1;33m \u001b[0mmovies\u001b[0m\u001b[1;33m=\u001b[0m\u001b[0mmovies\u001b[0m\u001b[1;33m[\u001b[0m\u001b[1;33m:\u001b[0m\u001b[1;36m10000\u001b[0m\u001b[1;33m]\u001b[0m\u001b[1;33m\u001b[0m\u001b[1;33m\u001b[0m\u001b[0m\n\u001b[0m",
      "\u001b[1;31mNameError\u001b[0m: name 'movies' is not defined"
     ]
    }
   ],
   "source": [
    "movies=movies[:10000]"
   ]
  },
  {
   "cell_type": "code",
   "execution_count": null,
   "metadata": {},
   "outputs": [],
   "source": [
    "genre_to_movie={}\n",
    "for i in range(len(movies)):\n",
    "    line=str(movies[\"Genre\"][i])\n",
    "    for genre in line.split(\"|\"):\n",
    "        if genre in genre_to_movie:\n",
    "            genre_to_movie[genre].append(movies[\"Title\"][i])\n",
    "        else: \n",
    "            genre_to_movie[genre]=[movies[\"Title\"][i]]"
   ]
  },
  {
   "cell_type": "code",
   "execution_count": null,
   "metadata": {},
   "outputs": [],
   "source": [
    "print(genre_to_movie.keys())"
   ]
  },
  {
   "cell_type": "code",
   "execution_count": null,
   "metadata": {},
   "outputs": [],
   "source": [
    "def movie_recs(genres):\n",
    "    \"\"\"Returns a list of movies based on genres user clicked in form\n",
    "    \n",
    "    Params: {genres: list or set of genre names}\n",
    "    Returns: list of movie titles and scores\n",
    "    \"\"\"\n",
    "    "
   ]
  },
  {
   "cell_type": "code",
   "execution_count": null,
   "metadata": {},
   "outputs": [],
   "source": []
  },
  {
   "cell_type": "code",
   "execution_count": null,
   "metadata": {},
   "outputs": [],
   "source": [
    "#def music_recs():\n",
    "#    \"\"\"Returns a list of songs based on genres user clicked in form\n",
    "    \n",
    "#    Params: {genres: list or set of genre names}\n",
    "#    Returns: list of song titles and scores\n",
    "#    \"\"\"\n",
    "#    return "
   ]
  },
  {
   "cell_type": "code",
   "execution_count": null,
   "metadata": {},
   "outputs": [],
   "source": [
    "#dependent vbs\n",
    "music=cols[:19][\"short\"]\n",
    "movie_cols=cols[19:31][\"short\"]\n",
    "hobbies=cols[31:63][\"short\"]\n",
    "\n",
    "#independent vbs\n",
    "personality=cols[76:133][\"short\"]\n",
    "demographics=cols.iloc[[140, 144, 146]][\"short\"]"
   ]
  },
  {
   "cell_type": "code",
   "execution_count": null,
   "metadata": {},
   "outputs": [],
   "source": [
    "# Convert education to quantitative values and reassign to table\n",
    "def edu_level_numeric(edu):   \n",
    "    return {\n",
    "        'currently a primary school pupil': 0,\n",
    "        'primary school': 1,\n",
    "        'secondary school': 2, \n",
    "        'college/bachelor degree': 3,\n",
    "        'masters degree': 4,   \n",
    "        'doctorate degree': 5\n",
    "    }.get(edu,float(\"nan\"))\n",
    "resp[\"Education\"]=list(map(edu_level_numeric, list(resp[\"Education\"])))"
   ]
  },
  {
   "cell_type": "code",
   "execution_count": null,
   "metadata": {},
   "outputs": [],
   "source": [
    "def gender_numeric(gender):   \n",
    "    return {\n",
    "        'female': 0,\n",
    "        'male':1\n",
    "    }.get(gender,float(\"nan\"))\n",
    "resp[\"Gender\"]=list(map(gender_numeric, list(resp[\"Gender\"])))\n"
   ]
  },
  {
   "cell_type": "code",
   "execution_count": null,
   "metadata": {},
   "outputs": [],
   "source": [
    "# NOW FOR PERSONALITY\n",
    "def punct_numeric(punct):   \n",
    "    return {\n",
    "        'i am often early': 1,\n",
    "        'i am always on time':2,\n",
    "        'i am often running late': 3\n",
    "    }.get(punct,float(\"nan\"))\n",
    "resp[\"Punctuality\"]=list(map(punct_numeric, list(resp[\"Punctuality\"])))\n",
    "\n",
    "\n",
    "\n",
    "def ly_numeric(lying):\n",
    "    return {\n",
    "        'never':0,\n",
    "        'only to avoid hurting someone': 1,\n",
    "        'sometimes': 2,\n",
    "        'everytime it suits me': 3\n",
    "    }.get(lying,float(\"nan\"))\n",
    "resp[\"Lying\"]=list(map(ly_numeric,list(resp[\"Lying\"])))\n",
    "\n",
    "\n",
    "def web_numeric(web):\n",
    "    return{\n",
    "        'no time at all': 0, \n",
    "        'less than an hour a day': 1,\n",
    "        'few hours a day': 2,\n",
    "         'most of the day': 3\n",
    "    }.get(web,float(\"nan\"))\n",
    "resp[\"Internet usage\"]=list(map(web_numeric,list(resp[\"Internet usage\"])))"
   ]
  },
  {
   "cell_type": "code",
   "execution_count": null,
   "metadata": {},
   "outputs": [],
   "source": [
    "corr_dict={}\n",
    "for dem in demographics:\n",
    "    dem_var=resp[dem]\n",
    "    for col in music:\n",
    "        music_var=resp[col]\n",
    "        corr_dict[(col,dem)]=pd.concat([music_var,dem_var], axis=1).corr(\"pearson\").iloc[0,1]\n",
    "print(\"Correlations for Music and Demographic were between\" , \n",
    "      sorted(corr_dict.items(), key=lambda x: x[1])[0], \"and\",\n",
    "      sorted(corr_dict.items(), key=lambda x: x[1])[-1])\n",
    "\n",
    "n_corr_dict={}\n",
    "for per in personality:\n",
    "    per_var=resp[per]\n",
    "    for col in music:\n",
    "        music_var=resp[col]\n",
    "        n_corr_dict[(col,per)]=pd.concat([music_var,per_var], axis=1).corr(\"pearson\").iloc[0,1]\n",
    "\n",
    "print(\"Correlations for Music and Personality were between\" , \n",
    "      sorted(n_corr_dict.items(), key=lambda x: x[1])[0], \"and\",\n",
    "      sorted(n_corr_dict.items(), key=lambda x: x[1])[-1])"
   ]
  },
  {
   "cell_type": "code",
   "execution_count": null,
   "metadata": {},
   "outputs": [],
   "source": [
    "# Movies\n",
    "corr_dict1={}\n",
    "for dem in demographics:\n",
    "    dem_var=resp[dem]\n",
    "    for col in movie_cols:\n",
    "        movie_var=resp[col]\n",
    "        corr_dict1[(col,dem)]=pd.concat([movie_var,dem_var], axis=1).corr(\"pearson\").iloc[0,1]\n",
    "\n",
    "print(\"Correlations for Movies and Demographics were between\" , \n",
    "      sorted(corr_dict1.items(), key=lambda x: x[1])[0], \"and\",\n",
    "      sorted(corr_dict1.items(), key=lambda x: x[1])[-1])\n",
    "\n",
    "\n",
    "\n",
    "\n",
    "corr_dict2={}\n",
    "for per in personality:\n",
    "    per_var=resp[per]\n",
    "    for col in movie_cols:\n",
    "        movie_var=resp[col]\n",
    "        corr_dict2[(col,per)]=pd.concat([movie_var,per_var], axis=1).corr(\"pearson\").iloc[0,1]\n",
    "\n",
    "print(\"Correlations for Movies and Personality were between\" , \n",
    "      sorted(corr_dict2.items(), key=lambda x: x[1])[0], \"and\",\n",
    "      sorted(corr_dict2.items(), key=lambda x: x[1])[-1])"
   ]
  },
  {
   "cell_type": "code",
   "execution_count": null,
   "metadata": {},
   "outputs": [],
   "source": [
    "# Hobbies\n",
    "corr_dict3={}\n",
    "for dem in demographics:\n",
    "    dem_var=resp[dem]\n",
    "    for col in hobbies:\n",
    "        hob=resp[col]\n",
    "        corr_dict3[(col,dem)]=pd.concat([hob,dem_var], axis=1).corr(\"pearson\").iloc[0,1]\n",
    "        \n",
    "\n",
    "print(\"Correlations for Hobbies and Demographics were between\" , \n",
    "      sorted(corr_dict3.items(), key=lambda x: x[1])[0], \"and\",\n",
    "      sorted(corr_dict3.items(), key=lambda x: x[1])[-1])\n",
    "\n",
    "\n",
    "\n",
    "corr_dict4={}\n",
    "for per in personality:\n",
    "    per_var=resp[per]\n",
    "    for col in hobbies:\n",
    "        hob=resp[col]\n",
    "        corr_dict4[(col,per)]=pd.concat([hob,per_var], axis=1).corr(\"pearson\").iloc[0,1]\n",
    "        \n",
    "print(\"Correlations for Hobbies and Personality were between\" , \n",
    "      sorted(corr_dict4.items(), key=lambda x: x[1])[0], \"and\",\n",
    "      sorted(corr_dict4.items(), key=lambda x: x[1])[-1])\n"
   ]
  },
  {
   "cell_type": "code",
   "execution_count": null,
   "metadata": {},
   "outputs": [],
   "source": []
  }
 ],
 "metadata": {
  "colab": {
   "collapsed_sections": [],
   "name": "Data Exploration.ipynb",
   "provenance": []
  },
  "kernelspec": {
   "display_name": "Python 3",
   "language": "python",
   "name": "python3"
  },
  "language_info": {
   "codemirror_mode": {
    "name": "ipython",
    "version": 3
   },
   "file_extension": ".py",
   "mimetype": "text/x-python",
   "name": "python",
   "nbconvert_exporter": "python",
   "pygments_lexer": "ipython3",
   "version": "3.7.6"
  }
 },
 "nbformat": 4,
 "nbformat_minor": 1
}
