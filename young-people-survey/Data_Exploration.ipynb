{
 "cells": [
  {
   "cell_type": "code",
   "execution_count": 1,
   "metadata": {
    "colab": {},
    "colab_type": "code",
    "id": "msBkb5Efds0D"
   },
   "outputs": [],
   "source": [
    "#write function that takes query input and returns recommendation list"
   ]
  },
  {
   "cell_type": "code",
   "execution_count": 2,
   "metadata": {
    "colab": {},
    "colab_type": "code",
    "id": "1XwnktnieiGT"
   },
   "outputs": [],
   "source": [
    "import numpy as np \n",
    "import pandas as pd \n",
    "import matplotlib.pyplot as plt"
   ]
  },
  {
   "cell_type": "code",
   "execution_count": 3,
   "metadata": {
    "colab": {},
    "colab_type": "code",
    "id": "OH0S6RioehaN"
   },
   "outputs": [],
   "source": [
    "#load data\n",
    "cols=pd.read_csv(\"columns.csv\")\n",
    "resp=pd.read_csv(\"responses.csv\")\n",
    "podcasts=pd.read_csv(\"df_popular_podcasts.csv\")\n",
    "movies=pd.read_csv(\"MovieGenre.csv\", encoding=\"ANSI\")\n",
    "genre_IDs=[['1311', 'News & Politics'], ['26', 'Podcasts'], ['1479', 'Social Sciences'], ['1315', 'Science & Medicine'], ['1324', 'Society & Culture'], ['1302', 'Personal Journals'], ['1469', 'Language Courses'], ['1304', 'Education'], ['1320', 'Places & Travel'], ['1416', 'Higher Education'], ['1465', 'Professional'], ['1316', 'Sports & Recreation'], ['1303', 'Comedy'], ['1305', 'Kids & Family'], ['1439', 'Christianity'], ['1314', 'Religion & Spirituality'], ['1444', 'Spirituality'], ['1309', 'TV & Film'], ['1462', 'History'], ['1310', 'Music'], ['1478', 'Medicine'], ['1321', 'Business'], ['1412', 'Investing'], ['1420', 'Self-Help'], ['1307', 'Health'], ['1481', 'Alternative Health'], ['1417', 'Fitness & Nutrition'], ['1467', 'Amateur'], ['1480', 'Software How-To'], ['1318', 'Technology'], ['1448', 'Tech News'], ['1456', 'Outdoor'], ['1477', 'Natural Sciences'], ['1301', 'Arts'], ['1454', 'Automotive'], ['1323', 'Games & Hobbies'], ['1438', 'Buddhism'], ['1443', 'Philosophy'], ['1401', 'Literature'], ['1402', 'Design'], ['1410', 'Careers'], ['1470', 'Training'], ['1413', 'Management & Marketing'], ['1306', 'Food'], ['1406', 'Visual Arts'], ['1446', 'Gadgets'], ['1468', 'Educational Technology'], ['1405', 'Performing Arts'], ['1460', 'Hobbies'], ['1471', 'Business News'], ['1404', 'Video Games'], ['1450', 'Podcasting'], ['1473', 'National'], ['1325', 'Government & Organizations'], ['1461', 'Other Games'], ['1466', 'College & High School'], ['1459', 'Fashion & Beauty'], ['1476', 'Non-Profit'], ['1415', 'K-12'], ['1455', 'Aviation'], ['1464', 'Other'], ['1421', 'Sexuality'], ['1472', 'Shopping'], ['1475', 'Local'], ['1441', 'Judaism'], ['1440', 'Islam'], ['1474', 'Regional'], ['1463', 'Hinduism']]"
   ]
  },
  {
   "cell_type": "code",
   "execution_count": 4,
   "metadata": {
    "colab": {},
    "colab_type": "code",
    "id": "1eHSV1RdepgM"
   },
   "outputs": [],
   "source": [
    "#dependent vbs\n",
    "music=cols[:19]\n",
    "movie_cols=cols[19:31]\n",
    "hobbies=cols[31:63]\n",
    "\n",
    "#independent vbs\n",
    "personality=cols[76:133]\n",
    "demographics=cols[140:147]"
   ]
  },
  {
   "cell_type": "code",
   "execution_count": 5,
   "metadata": {
    "scrolled": false
   },
   "outputs": [
    {
     "data": {
      "text/html": [
       "<div>\n",
       "<style scoped>\n",
       "    .dataframe tbody tr th:only-of-type {\n",
       "        vertical-align: middle;\n",
       "    }\n",
       "\n",
       "    .dataframe tbody tr th {\n",
       "        vertical-align: top;\n",
       "    }\n",
       "\n",
       "    .dataframe thead th {\n",
       "        text-align: right;\n",
       "    }\n",
       "</style>\n",
       "<table border=\"1\" class=\"dataframe\">\n",
       "  <thead>\n",
       "    <tr style=\"text-align: right;\">\n",
       "      <th></th>\n",
       "      <th>Name</th>\n",
       "      <th>Artwork</th>\n",
       "      <th>Genre IDs</th>\n",
       "      <th>Episode Count</th>\n",
       "      <th>Episode Durations</th>\n",
       "      <th>iTunes URL</th>\n",
       "      <th>Feed URL</th>\n",
       "      <th>Podcast URL</th>\n",
       "      <th>Description</th>\n",
       "    </tr>\n",
       "  </thead>\n",
       "  <tbody>\n",
       "    <tr>\n",
       "      <th>0</th>\n",
       "      <td>Selling the Couch with Melvin Varghese, Ph.D. ...</td>\n",
       "      <td>http://is2.mzstatic.com/image/thumb/Music71/v4...</td>\n",
       "      <td>['1410', '26', '1321', '1307', '1315']</td>\n",
       "      <td>129</td>\n",
       "      <td>[37.7, 36.18, 30.83, 30.87, 32.75, 36.15, 33.8...</td>\n",
       "      <td>https://itunes.apple.com/us/podcast/selling-co...</td>\n",
       "      <td>http://sellingthecouch.libsyn.com/rss</td>\n",
       "      <td>http://www.SellingTheCouch.com</td>\n",
       "      <td>Selling the Couch is the #1 podcast for aspiri...</td>\n",
       "    </tr>\n",
       "    <tr>\n",
       "      <th>1</th>\n",
       "      <td>Susan Gregg's Food for the Soul</td>\n",
       "      <td>http://is5.mzstatic.com/image/thumb/Music62/v4...</td>\n",
       "      <td>['1444', '26', '1314', '1307', '1324', '1443',...</td>\n",
       "      <td>50</td>\n",
       "      <td>0</td>\n",
       "      <td>https://itunes.apple.com/us/podcast/susan-greg...</td>\n",
       "      <td>http://www.susangregg.com/feed/podcast</td>\n",
       "      <td>http://www.susangregg.com</td>\n",
       "      <td>You can feel safe and be happy no matter what ...</td>\n",
       "    </tr>\n",
       "    <tr>\n",
       "      <th>2</th>\n",
       "      <td>Field Days</td>\n",
       "      <td>http://is2.mzstatic.com/image/thumb/Music62/v4...</td>\n",
       "      <td>['1474', '26', '1325']</td>\n",
       "      <td>58</td>\n",
       "      <td>[17.13, 21.95, 23.48, 22.35, 33.47, 42.75, 26....</td>\n",
       "      <td>https://itunes.apple.com/us/podcast/field-days...</td>\n",
       "      <td>http://feeds.soundcloud.com/users/soundcloud:u...</td>\n",
       "      <td>http://soundcloud.com/field-days</td>\n",
       "      <td>The Michigan Department of Corrections - Field...</td>\n",
       "    </tr>\n",
       "    <tr>\n",
       "      <th>3</th>\n",
       "      <td>Card Talk: The World's Greatest Magic: the Gat...</td>\n",
       "      <td>http://is1.mzstatic.com/image/thumb/Music6/v4/...</td>\n",
       "      <td>['1461', '26', '1323']</td>\n",
       "      <td>36</td>\n",
       "      <td>[97.62, 94.87, 94.35, 74.22, 78.5, 84.43, 76.8...</td>\n",
       "      <td>https://itunes.apple.com/us/podcast/card-talk-...</td>\n",
       "      <td>http://taltcast.libsyn.com/rss</td>\n",
       "      <td>http://cardtalk.libsyn.com</td>\n",
       "      <td>Sometime Magic Pro GCB &amp; semi-competitive Magi...</td>\n",
       "    </tr>\n",
       "    <tr>\n",
       "      <th>4</th>\n",
       "      <td>The UAV Digest</td>\n",
       "      <td>http://is3.mzstatic.com/image/thumb/Music62/v4...</td>\n",
       "      <td>['1455', '26', '1323', '1318']</td>\n",
       "      <td>50</td>\n",
       "      <td>[29.02, 33.55, 30.47, 31.43, 33.5, 33.98, 33.0...</td>\n",
       "      <td>https://itunes.apple.com/us/podcast/the-uav-di...</td>\n",
       "      <td>http://theuavdigest.com/feed/podcast/</td>\n",
       "      <td>http://theuavdigest.com</td>\n",
       "      <td>The UAV Digest is an audio podcast devoted to ...</td>\n",
       "    </tr>\n",
       "  </tbody>\n",
       "</table>\n",
       "</div>"
      ],
      "text/plain": [
       "                                                Name  \\\n",
       "0  Selling the Couch with Melvin Varghese, Ph.D. ...   \n",
       "1                    Susan Gregg's Food for the Soul   \n",
       "2                                         Field Days   \n",
       "3  Card Talk: The World's Greatest Magic: the Gat...   \n",
       "4                                     The UAV Digest   \n",
       "\n",
       "                                             Artwork  \\\n",
       "0  http://is2.mzstatic.com/image/thumb/Music71/v4...   \n",
       "1  http://is5.mzstatic.com/image/thumb/Music62/v4...   \n",
       "2  http://is2.mzstatic.com/image/thumb/Music62/v4...   \n",
       "3  http://is1.mzstatic.com/image/thumb/Music6/v4/...   \n",
       "4  http://is3.mzstatic.com/image/thumb/Music62/v4...   \n",
       "\n",
       "                                           Genre IDs  Episode Count  \\\n",
       "0             ['1410', '26', '1321', '1307', '1315']            129   \n",
       "1  ['1444', '26', '1314', '1307', '1324', '1443',...             50   \n",
       "2                             ['1474', '26', '1325']             58   \n",
       "3                             ['1461', '26', '1323']             36   \n",
       "4                     ['1455', '26', '1323', '1318']             50   \n",
       "\n",
       "                                   Episode Durations  \\\n",
       "0  [37.7, 36.18, 30.83, 30.87, 32.75, 36.15, 33.8...   \n",
       "1                                                  0   \n",
       "2  [17.13, 21.95, 23.48, 22.35, 33.47, 42.75, 26....   \n",
       "3  [97.62, 94.87, 94.35, 74.22, 78.5, 84.43, 76.8...   \n",
       "4  [29.02, 33.55, 30.47, 31.43, 33.5, 33.98, 33.0...   \n",
       "\n",
       "                                          iTunes URL  \\\n",
       "0  https://itunes.apple.com/us/podcast/selling-co...   \n",
       "1  https://itunes.apple.com/us/podcast/susan-greg...   \n",
       "2  https://itunes.apple.com/us/podcast/field-days...   \n",
       "3  https://itunes.apple.com/us/podcast/card-talk-...   \n",
       "4  https://itunes.apple.com/us/podcast/the-uav-di...   \n",
       "\n",
       "                                            Feed URL  \\\n",
       "0              http://sellingthecouch.libsyn.com/rss   \n",
       "1             http://www.susangregg.com/feed/podcast   \n",
       "2  http://feeds.soundcloud.com/users/soundcloud:u...   \n",
       "3                     http://taltcast.libsyn.com/rss   \n",
       "4              http://theuavdigest.com/feed/podcast/   \n",
       "\n",
       "                        Podcast URL  \\\n",
       "0    http://www.SellingTheCouch.com   \n",
       "1         http://www.susangregg.com   \n",
       "2  http://soundcloud.com/field-days   \n",
       "3        http://cardtalk.libsyn.com   \n",
       "4           http://theuavdigest.com   \n",
       "\n",
       "                                         Description  \n",
       "0  Selling the Couch is the #1 podcast for aspiri...  \n",
       "1  You can feel safe and be happy no matter what ...  \n",
       "2  The Michigan Department of Corrections - Field...  \n",
       "3  Sometime Magic Pro GCB & semi-competitive Magi...  \n",
       "4  The UAV Digest is an audio podcast devoted to ...  "
      ]
     },
     "execution_count": 5,
     "metadata": {},
     "output_type": "execute_result"
    }
   ],
   "source": [
    "#Prep the podcasts dataset for the function \n",
    "\n",
    "#Get rid of columns we won't use\n",
    "#podcasts=podcasts.drop('Artwork', axis=1)\n",
    "#podcasts=podcasts.drop('Episode Count', axis=1)\n",
    "#podcasts=podcasts.drop('Episode Durations', axis=1)\n",
    "#podcasts=podcasts.drop('iTunes URL', axis=1)\n",
    "#podcasts=podcasts.drop('Feed URL', axis=1)\n",
    "podcasts.head()"
   ]
  },
  {
   "cell_type": "code",
   "execution_count": 6,
   "metadata": {},
   "outputs": [],
   "source": [
    "# Better organize the id vs name of genre\n",
    "dict_pod={int(id[0]):id[1] for id in genre_IDs }\n",
    "\n",
    "# {Genre ID:NAMES OF PODCAST} \n",
    "genre_to_podcast={key:[] for key in dict_pod }\n",
    "\n",
    "for item in podcasts.index:\n",
    "    array=podcasts[\"Genre IDs\"][item][1:-1].split(',')\n",
    "    array=[int(array[i].replace('\\'', '').strip('\\'')) for i in range(len(array))]\n",
    "    for j in range(len(array)):\n",
    "        genre_to_podcast[array[j]].append(podcasts[\"Name\"][item])\n",
    "\n",
    "final_dict={list(dict_pod.values())[p]:list(genre_to_podcast.values())[p] for p in range(len(genre_to_podcast.keys()))}"
   ]
  },
  {
   "cell_type": "code",
   "execution_count": 9,
   "metadata": {},
   "outputs": [
    {
     "name": "stdout",
     "output_type": "stream",
     "text": [
      "dict_keys(['News & Politics', 'Podcasts', 'Social Sciences', 'Science & Medicine', 'Society & Culture', 'Personal Journals', 'Language Courses', 'Education', 'Places & Travel', 'Higher Education', 'Professional', 'Sports & Recreation', 'Comedy', 'Kids & Family', 'Christianity', 'Religion & Spirituality', 'Spirituality', 'TV & Film', 'History', 'Music', 'Medicine', 'Business', 'Investing', 'Self-Help', 'Health', 'Alternative Health', 'Fitness & Nutrition', 'Amateur', 'Software How-To', 'Technology', 'Tech News', 'Outdoor', 'Natural Sciences', 'Arts', 'Automotive', 'Games & Hobbies', 'Buddhism', 'Philosophy', 'Literature', 'Design', 'Careers', 'Training', 'Management & Marketing', 'Food', 'Visual Arts', 'Gadgets', 'Educational Technology', 'Performing Arts', 'Hobbies', 'Business News', 'Video Games', 'Podcasting', 'National', 'Government & Organizations', 'Other Games', 'College & High School', 'Fashion & Beauty', 'Non-Profit', 'K-12', 'Aviation', 'Other', 'Sexuality', 'Shopping', 'Local', 'Judaism', 'Islam', 'Regional', 'Hinduism'])\n"
     ]
    }
   ],
   "source": [
    "print(final_dict.keys())"
   ]
  },
  {
   "cell_type": "code",
   "execution_count": 13,
   "metadata": {},
   "outputs": [],
   "source": [
    "def podcast_recs(genres):\n",
    "    \"\"\"Returns a list of podcasts based on interests user clicked in form\n",
    "    \n",
    "    Params: {genres: list or set of genre names}\n",
    "    Returns: list of podcast titles and scores\n",
    "    \"\"\"\n",
    "    #compare input to genres in podcast data set \n",
    "    #index podcast dataset by genre: all comedies in one list etc\n",
    "    #for genre in genres\n",
    "    #then for each one we find all the podcasts matching the genre ID\n",
    "    #then increment their score by something \n",
    "    #for genre in genres:\n",
    "        \n",
    "        \n",
    "    "
   ]
  },
  {
   "cell_type": "code",
   "execution_count": 14,
   "metadata": {},
   "outputs": [],
   "source": [
    "movies=movies[:10000]"
   ]
  },
  {
   "cell_type": "code",
   "execution_count": 15,
   "metadata": {},
   "outputs": [],
   "source": [
    "genre_to_movie={}\n",
    "for i in range(len(movies)):\n",
    "    line=str(movies[\"Genre\"][i])\n",
    "    for genre in line.split(\"|\"):\n",
    "        if genre in genre_to_movie:\n",
    "            genre_to_movie[genre].append(movies[\"Title\"][i])\n",
    "        else: \n",
    "            genre_to_movie[genre]=[movies[\"Title\"][i]]"
   ]
  },
  {
   "cell_type": "code",
   "execution_count": 17,
   "metadata": {},
   "outputs": [
    {
     "name": "stdout",
     "output_type": "stream",
     "text": [
      "dict_keys(['Animation', 'Adventure', 'Comedy', 'Action', 'Family', 'Romance', 'Drama', 'Crime', 'Thriller', 'Fantasy', 'Horror', 'Biography', 'History', 'Mystery', 'Sci-Fi', 'War', 'Sport', 'Music', 'Documentary', 'Musical', 'Western', 'Short', 'Film-Noir', 'nan', 'Talk-Show'])\n"
     ]
    }
   ],
   "source": [
    "print(genre_to_movie.keys())"
   ]
  },
  {
   "cell_type": "code",
   "execution_count": null,
   "metadata": {},
   "outputs": [],
   "source": [
    "def movie_recs(genres):\n",
    "    \"\"\"Returns a list of movies based on genres user clicked in form\n",
    "    \n",
    "    Params: {genres: list or set of genre names}\n",
    "    Returns: list of movie titles and scores\n",
    "    \"\"\"\n",
    "    "
   ]
  },
  {
   "cell_type": "code",
   "execution_count": null,
   "metadata": {},
   "outputs": [],
   "source": []
  },
  {
   "cell_type": "code",
   "execution_count": null,
   "metadata": {},
   "outputs": [],
   "source": [
    "#def music_recs():\n",
    "#    \"\"\"Returns a list of songs based on genres user clicked in form\n",
    "    \n",
    "#    Params: {genres: list or set of genre names}\n",
    "#    Returns: list of song titles and scores\n",
    "#    \"\"\"\n",
    "#    return "
   ]
  },
  {
   "cell_type": "code",
   "execution_count": null,
   "metadata": {},
   "outputs": [],
   "source": []
  }
 ],
 "metadata": {
  "colab": {
   "collapsed_sections": [],
   "name": "Data Exploration.ipynb",
   "provenance": []
  },
  "kernelspec": {
   "display_name": "Python 3",
   "language": "python",
   "name": "python3"
  },
  "language_info": {
   "codemirror_mode": {
    "name": "ipython",
    "version": 3
   },
   "file_extension": ".py",
   "mimetype": "text/x-python",
   "name": "python",
   "nbconvert_exporter": "python",
   "pygments_lexer": "ipython3",
   "version": "3.7.6"
  }
 },
 "nbformat": 4,
 "nbformat_minor": 1
}
