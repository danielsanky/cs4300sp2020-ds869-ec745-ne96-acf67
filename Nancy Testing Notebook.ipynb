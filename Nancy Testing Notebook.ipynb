{
 "cells": [
  {
   "cell_type": "code",
   "execution_count": 62,
   "metadata": {},
   "outputs": [
    {
     "name": "stdout",
     "output_type": "stream",
     "text": [
      "[nltk_data] Downloading package punkt to\n",
      "[nltk_data]     C:\\Users\\Nancy\\AppData\\Roaming\\nltk_data...\n",
      "[nltk_data]   Unzipping tokenizers\\punkt.zip.\n"
     ]
    },
    {
     "data": {
      "text/plain": [
       "True"
      ]
     },
     "execution_count": 62,
     "metadata": {},
     "output_type": "execute_result"
    }
   ],
   "source": [
    "import numpy as np \n",
    "import pandas as pd \n",
    "import matplotlib.pyplot as plt\n",
    "from collections import Counter\n",
    "from sklearn import tree\n",
    "import random\n",
    "import collections\n",
    "import re\n",
    "from sklearn.feature_extraction.text import TfidfVectorizer"
   ]
  },
  {
   "cell_type": "code",
   "execution_count": 22,
   "metadata": {},
   "outputs": [],
   "source": [
    "#load data\n",
    "resp=pd.read_csv(\"young-people-survey/responses.csv\")\n",
    "podcasts=pd.read_csv(\"young-people-survey/df_popular_podcasts.csv\")\n",
    "movies=pd.read_csv(\"young-people-survey/MovieGenre.csv\")\n",
    "music=pd.read_csv(\"young-people-survey/SpotifyFeatures.csv\")\n",
    "genre_IDs=[['1311', 'News & Politics'], ['26', 'Podcasts'], ['1479', 'Social Sciences'], ['1315', 'Science & Medicine'], ['1324', 'Society & Culture'], ['1302', 'Personal Journals'], ['1469', 'Language Courses'], ['1304', 'Education'], ['1320', 'Places & Travel'], ['1416', 'Higher Education'], ['1465', 'Professional'], ['1316', 'Sports & Recreation'], ['1303', 'Comedy'], ['1305', 'Kids & Family'], ['1439', 'Christianity'], ['1314', 'Religion & Spirituality'], ['1444', 'Spirituality'], ['1309', 'TV & Film'], ['1462', 'History'], ['1310', 'Music'], ['1478', 'Medicine'], ['1321', 'Business'], ['1412', 'Investing'], ['1420', 'Self-Help'], ['1307', 'Health'], ['1481', 'Alternative Health'], ['1417', 'Fitness & Nutrition'], ['1467', 'Amateur'], ['1480', 'Software How-To'], ['1318', 'Technology'], ['1448', 'Tech News'], ['1456', 'Outdoor'], ['1477', 'Natural Sciences'], ['1301', 'Arts'], ['1454', 'Automotive'], ['1323', 'Games & Hobbies'], ['1438', 'Buddhism'], ['1443', 'Philosophy'], ['1401', 'Literature'], ['1402', 'Design'], ['1410', 'Careers'], ['1470', 'Training'], ['1413', 'Management & Marketing'], ['1306', 'Food'], ['1406', 'Visual Arts'], ['1446', 'Gadgets'], ['1468', 'Educational Technology'], ['1405', 'Performing Arts'], ['1460', 'Hobbies'], ['1471', 'Business News'], ['1404', 'Video Games'], ['1450', 'Podcasting'], ['1473', 'National'], ['1325', 'Government & Organizations'], ['1461', 'Other Games'], ['1466', 'College & High School'], ['1459', 'Fashion & Beauty'], ['1476', 'Non-Profit'], ['1415', 'K-12'], ['1455', 'Aviation'], ['1464', 'Other'], ['1421', 'Sexuality'], ['1472', 'Shopping'], ['1475', 'Local'], ['1441', 'Judaism'], ['1440', 'Islam'], ['1474', 'Regional'], ['1463', 'Hinduism']]"
   ]
  },
  {
   "cell_type": "code",
   "execution_count": 28,
   "metadata": {},
   "outputs": [],
   "source": [
    "resp = pd.read_csv(\"young-people-survey/responses.csv\")\n",
    "podcasts=pd.read_csv(\"young-people-survey/df_popular_podcasts.csv\")\n",
    "word_exp=re.compile(\"[^\\x00-\\x7F]+\")\n",
    "non_eng_pod=[index for index,value in enumerate(list(podcasts[\"Name\"].to_dict().values())) if len(re.findall(word_exp,value))!=0]\n",
    "podcasts=podcasts.drop(non_eng_pod).drop_duplicates(\"Name\", keep=\"first\")\n",
    "\n",
    "movies=pd.read_csv(\"young-people-survey/MovieGenre.csv\")\n",
    "movies=movies.drop_duplicates(\"imdbId\")\n",
    "movies=movies[movies[\"IMDB Score\"].astype(float)>float(5.0)]\n",
    "\n",
    "music=pd.read_csv(\"young-people-survey/SpotifyFeatures.csv\")\n",
    "music=music.drop_duplicates(\"track_id\")\n",
    "music=music[music[\"popularity\"].astype(float)>float(50)]\n",
    "\n",
    "genre_IDs=[['1311', 'News & Politics'], ['26', 'Podcasts'], ['1479', 'Social Sciences'], ['1315', 'Science & Medicine'], ['1324', 'Society & Culture'], ['1302', 'Personal Journals'], ['1469', 'Language Courses'], ['1304', 'Education'], ['1320', 'Places & Travel'], ['1416', 'Higher Education'], ['1465', 'Professional'], ['1316', 'Sports & Recreation'], ['1303', 'Comedy'], ['1305', 'Kids & Family'], ['1439', 'Christianity'], ['1314', 'Religion & Spirituality'], ['1444', 'Spirituality'], ['1309', 'TV & Film'], ['1462', 'History'], ['1310', 'Music'], ['1478', 'Medicine'], ['1321', 'Business'], ['1412', 'Investing'], ['1420', 'Self-Help'], ['1307', 'Health'], ['1481', 'Alternative Health'], ['1417', 'Fitness & Nutrition'], ['1467', 'Amateur'], ['1480', 'Software How-To'], ['1318', 'Technology'], ['1448', 'Tech News'], ['1456', 'Outdoor'], ['1477', 'Natural Sciences'], ['1301', 'Arts'], ['1454', 'Automotive'], ['1323', 'Games & Hobbies'], ['1438', 'Buddhism'], ['1443', 'Philosophy'], ['1401', 'Literature'], ['1402', 'Design'], ['1410', 'Careers'], ['1470', 'Training'], ['1413', 'Management & Marketing'], ['1306', 'Food'], ['1406', 'Visual Arts'], ['1446', 'Gadgets'], ['1468', 'Educational Technology'], ['1405', 'Performing Arts'], ['1460', 'Hobbies'], ['1471', 'Business News'], ['1404', 'Video Games'], ['1450', 'Podcasting'], ['1473', 'National'], ['1325', 'Government & Organizations'], ['1461', 'Other Games'], ['1466', 'College & High School'], ['1459', 'Fashion & Beauty'], ['1476', 'Non-Profit'], ['1415', 'K-12'], ['1455', 'Aviation'], ['1464', 'Other'], ['1421', 'Sexuality'], ['1472', 'Shopping'], ['1475', 'Local'], ['1441', 'Judaism'], ['1440', 'Islam'], ['1474', 'Regional'], ['1463', 'Hinduism']]"
   ]
  },
  {
   "cell_type": "code",
   "execution_count": 210,
   "metadata": {},
   "outputs": [
    {
     "data": {
      "text/plain": [
       "'Geeks Gadgets and Guns podcast'"
      ]
     },
     "execution_count": 210,
     "metadata": {},
     "output_type": "execute_result"
    }
   ],
   "source": [
    "podcasts.iloc[8110][:]['Name']"
   ]
  },
  {
   "cell_type": "code",
   "execution_count": 30,
   "metadata": {},
   "outputs": [],
   "source": [
    "# Better organize the id vs name of genre\n",
    "dict_pod={int(id[0]):id[1] for id in genre_IDs }\n",
    "\n",
    "# {Genre ID:NAMES OF PODCAST}\n",
    "genre_to_podcast={key:[] for key in dict_pod }\n",
    "for item in podcasts.index:\n",
    "    array=podcasts[\"Genre IDs\"][item][1:-1].split(',')\n",
    "    array=[int(array[i].replace('\\'', '').strip('\\'')) for i in range(len(array))]\n",
    "    for j in range(len(array)):\n",
    "        genre_to_podcast[array[j]].append((podcasts[\"Name\"][item], podcasts[\"Description\"][item], podcasts[\"Podcast URL\"][item]))\n",
    "final_dict={list(dict_pod.values())[p]:list(genre_to_podcast.values())[p] for p in range(len(genre_to_podcast.keys()))}\n",
    "final_dict = dict((k.lower(), v) for k, v in final_dict.items())\n",
    "\n",
    "#MAKE MOVIE DICTIONARY\n",
    "genre_to_movie={}\n",
    "for i in range( len(movies)):\n",
    "    line=str(movies.iloc[i][\"Genre\"])\n",
    "    for genre in line.split(\"|\"):\n",
    "        genre=genre.lower()\n",
    "        if genre in genre_to_movie:\n",
    "            genre_to_movie[genre].append(movies.iloc[i][\"Title\"])\n",
    "        else:\n",
    "            genre_to_movie[genre]=[movies.iloc[i][\"Title\"]]\n",
    "\n",
    "#MAKE MUSIC DICTIONARY\n",
    "genre_to_music={}\n",
    "for i in range(len(music)):\n",
    "    genre=music.iloc[i]['genre']\n",
    "    genre=genre.lower()\n",
    "    if genre in genre_to_music:\n",
    "            genre_to_music[genre].append((music.iloc[i]['track_id'], music.iloc[i]['track_name'],  music.iloc[i]['genre'],  music.iloc[i]['artist_name']))\n",
    "    else:\n",
    "            genre_to_music[genre]=[(music.iloc[i]['track_id'], music.iloc[i]['track_name'],  music.iloc[i]['genre'],  music.iloc[i]['artist_name'])]\n"
   ]
  },
  {
   "cell_type": "code",
   "execution_count": 37,
   "metadata": {},
   "outputs": [],
   "source": [
    "song=recs(genre_to_music, [\"Folk\"])"
   ]
  },
  {
   "cell_type": "code",
   "execution_count": 8,
   "metadata": {},
   "outputs": [],
   "source": [
    "song=[{\n",
    "            'title': item[0][1],\n",
    "            'url': \"https://open.spotify.com/embed/track/\"+item[0][0],\n",
    "            'artist': item[0][3], \n",
    "            'genre': item[0][2]\n",
    "            } for item in song]"
   ]
  },
  {
   "cell_type": "code",
   "execution_count": 40,
   "metadata": {},
   "outputs": [],
   "source": [
    "podcast=recs(final_dict,[\"News & Politics\"])"
   ]
  },
  {
   "cell_type": "code",
   "execution_count": 41,
   "metadata": {},
   "outputs": [],
   "source": [
    "podcast=[{\n",
    "            'title': item[0][0],\n",
    "            'description': item[0][1],\n",
    "            'url': item[0][2]\n",
    "            } for item in podcast]"
   ]
  },
  {
   "cell_type": "code",
   "execution_count": 175,
   "metadata": {},
   "outputs": [],
   "source": [
    "def cosine_sim(corpus):\n",
    "    vectorizer=TfidfVectorizer(stop_words=\"english\", min_df=1)\n",
    "    tfidf = vectorizer.fit_transform(corpus)\n",
    "    similarity = tfidf * tfidf.T\n",
    "    return similarity.toarray()"
   ]
  },
  {
   "cell_type": "code",
   "execution_count": 126,
   "metadata": {},
   "outputs": [
    {
     "data": {
      "text/plain": [
       "0.19431434016858146"
      ]
     },
     "execution_count": 126,
     "metadata": {},
     "output_type": "execute_result"
    }
   ],
   "source": [
    "cosine_sim(\"I'd like an apple\",  \"An apple a day keeps the doctor away\")"
   ]
  },
  {
   "cell_type": "code",
   "execution_count": 234,
   "metadata": {},
   "outputs": [],
   "source": [
    "def get_max_val(np_array): \n",
    "    index_max_val=np.argmax(np_array)\n",
    "    output=(podcasts.iloc[index_max_val][:][\"Name\"], podcasts.iloc[index_max_val][:][\"Description\"], podcasts.iloc[index_max_val][:][\"Podcast URL\"], np_array[index_max_val])\n",
    "    np_array[index_max_val]=0\n",
    "    return output\n",
    "\n",
    "def podcast_recs(query):\n",
    "    descriptions=list(podcasts['Description'])\n",
    "    corpus=[query]+descriptions\n",
    "    matrix=cosine_sim(corpus)\n",
    "    matrix_slice=matrix[:][0][1:]\n",
    "    result=[]\n",
    "    for x in range(5):\n",
    "        result.append(get_max_val(matrix_slice))\n",
    "    return result"
   ]
  },
  {
   "cell_type": "code",
   "execution_count": 235,
   "metadata": {},
   "outputs": [],
   "source": [
    "podcast=podcast_recs(\"Soft and soothing\")"
   ]
  },
  {
   "cell_type": "code",
   "execution_count": 236,
   "metadata": {},
   "outputs": [],
   "source": [
    "podcast=[{\n",
    "            'title': item[0],\n",
    "            'description': item[1],\n",
    "            'url': item[2], \n",
    "            'score': item[3]\n",
    "            } for item in podcast]"
   ]
  },
  {
   "cell_type": "code",
   "execution_count": 237,
   "metadata": {},
   "outputs": [
    {
     "data": {
      "text/plain": [
       "[{'description': 'Soothing nature sounds to help you to relax and fall asleep.  Bonus episodes include behind-the-scenes information and stories about specific recorded sounds, tips for making your own recordings, listener feedback, and more.',\n",
       "  'score': 0.21786942662253198,\n",
       "  'title': 'Sleep with Silk: Nature Sounds (to help insomnia, anxiety, stress, relax, focus, meditate, ASMR)',\n",
       "  'url': 'https://sleepwithsilk.com'},\n",
       " {'description': 'It takes more than great code to be a great engineer. Soft Skills Engineering is a weekly question and answer podcast where software developer hosts answer questions about all of the non-technical things that go along with being a software developer.',\n",
       "  'score': 0.18999435531690817,\n",
       "  'title': 'Soft Skills Engineering',\n",
       "  'url': 'https://softskills.audio/'},\n",
       " {'description': \"Lay yourself down to sleep with the soothing soporific of Miette\\\\'s purr as she reads you the world\\\\'s greatest works of short fiction, in a style all her own and in a way only she can.  \\n\\n\\n\\nWorld classics, known and unknown literary masterpieces, and modern experimental titles are all represented in what\\\\'s quickly becoming the most comprehensive (and most saucy) short fiction anthology.  Sweet dreams.\",\n",
       "  'score': 0.15279641785653741,\n",
       "  'title': \"Miette's Bedtime Story Podcast\",\n",
       "  'url': 'http://www.miettecast.com'},\n",
       " {'description': 'WARNING! This podcast uses progressive boredom via silly stories to help adults fall asleep. Pointless meanders, lulling soothing tones and strange asides are used in combination with bedtime tales to distract your racing brain and let you drift off to dreamland.\\n\\nIf you are expecting something sane or sensible this might not be for you. It might just blow your mind.\\n\\nTrouble Falling Asleep? Insomnia?\\n\\nLooking for something soothing to quiet your racing mind?\\n\\nIf you have trouble falling asleep or need background noise this might be what you are looking for.\\n\\nPlucked from Sleep With Me Podcast these stories are stripped of their introductions giving you 100% pure strange bedtime stories.\\n\\nBedtime is here. It is time to \"Sleep to Strange\"\\n\\nWelcome, I\\'m Dearest Scooter, your new Borefriend.\\nOn the \"Sleep With me Podcast\" an odd man tells strange tales that help dull and lull people to sleep. (that\\'s me)\\n\\nI\\'ve always wondered \"What if I took off the intros and just posted the stories by themselves?\" \\n\\nWouldn\\'t that be strange?',\n",
       "  'score': 0.14101469903361244,\n",
       "  'title': 'Sleep to Strange | A Sleep Inducing Podcast | That Helps You Relax Fall Asleep Fast and Beat Insomnia like ASMR and Guided Medi',\n",
       "  'url': 'http://sleeptostrange.libsyn.com/podcast'},\n",
       " {'description': 'John Sonmez wants to help you become more successful, make more money, deal with difficult coworkers and be so productive everyone thinks you must be abusing a prescription for Ritalin.\\n\\nListen in every Monday, Wednesday and Friday, as Simple Programmer founder, John Sonmez, answers questions, interviews guests and shares everything he knows to help you become a top performing software developer.\\n\\nThe Simple Programmer Podcast is a short podcast that is a mix of career advice, philosophy and soft skills from successful author and software developer, John Sonmez.\\n\\nJohn is the founder of http://simpleprogrammer.com, one of the most popular software development blogs, and the author of the best-selling book, \"Soft Skills: The Software Developer\\'s Life Manual.\" (http://simpleprogrammer.com/softskills)\\n\\nGeared towards a programmer or software developer audience, but contains practical advice on:\\n\\n    Career development\\n    Entrepreneurship\\n    Fitness\\n    Finance\\n    Productivity\\n    Personal development\\n    And more...\\n\\nThat anyone can benefit from.\\n\\nEach episode is between 5 and 10 minutes long with at least 3 new episodes each week.',\n",
       "  'score': 0.1386092485270264,\n",
       "  'title': 'Simple Programmer Podcast',\n",
       "  'url': 'http://simpleprogrammer.libsyn.com/podcast'}]"
      ]
     },
     "execution_count": 237,
     "metadata": {},
     "output_type": "execute_result"
    }
   ],
   "source": [
    "podcast"
   ]
  },
  {
   "cell_type": "code",
   "execution_count": null,
   "metadata": {},
   "outputs": [],
   "source": [
    "def recs(genre_dict, genre_query):\n",
    "    \"\"\"Returns a list of recommendations based on interests user clicked in form\n",
    "    Params: {query: list of genre names, genre_dict: dictionary that maps genre to titles, corr_dict: maps personality questions to answers given in survey}\n",
    "    Returns: list of tuples containing titles and scores\n",
    "    \"\"\"\n",
    "\n",
    "    genre_query=[genre.lower() for genre in genre_query]\n",
    "\n",
    "    counter={}\n",
    "    for cat in genre_query:\n",
    "        for film in genre_dict[cat]:\n",
    "            if film in counter:\n",
    "                counter[film]+=1\n",
    "            else:\n",
    "                counter[film]=1\n",
    "    results = list(counter.items())\n",
    "    random.shuffle(results)  \n",
    "    results.sort(key=lambda x: x[1], reverse=True)\n",
    "\n",
    "    return results"
   ]
  }
 ],
 "metadata": {
  "kernelspec": {
   "display_name": "venv",
   "language": "python",
   "name": "venv"
  },
  "language_info": {
   "codemirror_mode": {
    "name": "ipython",
    "version": 3
   },
   "file_extension": ".py",
   "mimetype": "text/x-python",
   "name": "python",
   "nbconvert_exporter": "python",
   "pygments_lexer": "ipython3",
   "version": "3.7.6"
  }
 },
 "nbformat": 4,
 "nbformat_minor": 2
}
